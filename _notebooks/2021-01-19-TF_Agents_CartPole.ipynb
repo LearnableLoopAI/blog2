{
 "cells": [
  {
   "cell_type": "markdown",
   "metadata": {
    "id": "klGNgWREsvQv"
   },
   "source": [
    "# \"Control of a Cart-Pole Dynamic System with TF-Agents\"\n",
    "\n",
    "> Reinforcement Learning (RL) to control the balancing of a pole on a moving cart\n",
    "- toc: true\n",
    "- branch: master\n",
    "- badges: false\n",
    "- comments: true\n",
    "- hide: false\n",
    "- search_exclude: true\n",
    "- metadata_key1: metadata_value1\n",
    "- metadata_key2: metadata_value2\n",
    "- image: images/graphical_representation_of_rl.png\n",
    "- categories: [Control,   ReinforcementLearning,   TensorFlow,TF-Agents,Python]\n",
    "- show_tags: true"
   ]
  },
  {
   "cell_type": "code",
   "execution_count": null,
   "metadata": {
    "id": "4E8ujfcND6pJ"
   },
   "outputs": [],
   "source": [
    "#hide\n",
    "# from google.colab import drive\n",
    "# drive.mount('/content/gdrive', force_remount=True)\n",
    "# root_dir = \"/content/gdrive/My Drive/\"\n",
    "# base_dir = root_dir + 'RL/TF-Agents/blog_posts/TF-Agents-CartPole/'\n",
    "# # base_dir = \"\""
   ]
  },
  {
   "cell_type": "markdown",
   "metadata": {
    "id": "lsaQlK8fFQqH"
   },
   "source": [
    "## 1. Introduction\n",
    "\n",
    "The cart-pole problem can be considered as the \"Hello World\" problem of Reinforcement Learning (RL). It was described by [Barto (1983)](http://www.derongliu.org/adp/adp-cdrom/Barto1983.pdf). The physics of the system is as follows:\n",
    "\n",
    "* All motion happens in a vertical plane\n",
    "* A hinged pole is attached to a cart\n",
    "* The cart slides horizontally on a track in an effort to balance the pole vertically\n",
    "* The system has four state variables:\n",
    "\n",
    "$x$: displacement of the cart\n",
    "\n",
    "$\\theta$: vertical angle on the pole\n",
    "\n",
    "$\\dot{x}$: velocity of the cart\n",
    "\n",
    "$\\dot{\\theta}$: angular velocity of the pole\n"
   ]
  },
  {
   "cell_type": "markdown",
   "metadata": {
    "id": "cKOCZlhUgXVK"
   },
   "source": [
    "Here is a graphical representation of the system:\n",
    "\n",
    "![Cartpole environment](https://raw.githubusercontent.com/tensorflow/agents/master/docs/tutorials/images/cartpole.png)"
   ]
  },
  {
   "cell_type": "markdown",
   "metadata": {
    "id": "S0-ZNxUXoMR6"
   },
   "source": [
    "## 2. Purpose\n",
    "\n",
    "The purpose of our activity in this blog post is to construct and train an entity, let's call it a *controller*, that can manage the horizontal motions of the cart so that the pole remains as close to vertical as possible. The controlled entity is, of course, the *cart and pole* system."
   ]
  },
  {
   "cell_type": "markdown",
   "metadata": {
    "id": "1u9QVVsShC9X"
   },
   "source": [
    "## 3. TF-Agents Setup\n",
    "\n",
    "We will use the Tensorflow TF-Agents framework. In addition, this notebook will need to run in Google Colab."
   ]
  },
  {
   "cell_type": "code",
   "execution_count": null,
   "metadata": {
    "colab": {
     "base_uri": "https://localhost:8080/"
    },
    "id": "KEHR2Ui-lo8O",
    "outputId": "382d522d-14fe-496c-f75f-a8c984dead19"
   },
   "outputs": [
    {
     "name": "stdout",
     "output_type": "stream",
     "text": [
      "Reading package lists... Done\n",
      "Building dependency tree       \n",
      "Reading state information... Done\n",
      "ffmpeg is already the newest version (7:3.4.8-0ubuntu0.2).\n",
      "xvfb is already the newest version (2:1.19.6-1ubuntu4.8).\n",
      "0 upgraded, 0 newly installed, 0 to remove and 12 not upgraded.\n",
      "Requirement already satisfied: imageio==2.4.0 in /usr/local/lib/python3.6/dist-packages (2.4.0)\n",
      "Requirement already satisfied: pillow in /usr/local/lib/python3.6/dist-packages (from imageio==2.4.0) (7.0.0)\n",
      "Requirement already satisfied: numpy in /usr/local/lib/python3.6/dist-packages (from imageio==2.4.0) (1.19.5)\n",
      "Requirement already satisfied: pyvirtualdisplay in /usr/local/lib/python3.6/dist-packages (2.0)\n",
      "Requirement already satisfied: EasyProcess in /usr/local/lib/python3.6/dist-packages (from pyvirtualdisplay) (0.3)\n",
      "Requirement already satisfied: tf-agents in /usr/local/lib/python3.6/dist-packages (0.7.1)\n",
      "Requirement already satisfied: pillow>=7.0.0 in /usr/local/lib/python3.6/dist-packages (from tf-agents) (7.0.0)\n",
      "Requirement already satisfied: numpy>=1.13.3 in /usr/local/lib/python3.6/dist-packages (from tf-agents) (1.19.5)\n",
      "Requirement already satisfied: cloudpickle>=1.3 in /usr/local/lib/python3.6/dist-packages (from tf-agents) (1.3.0)\n",
      "Requirement already satisfied: tensorflow-probability>=0.12.1 in /usr/local/lib/python3.6/dist-packages (from tf-agents) (0.12.1)\n",
      "Requirement already satisfied: protobuf>=3.11.3 in /usr/local/lib/python3.6/dist-packages (from tf-agents) (3.12.4)\n",
      "Requirement already satisfied: typing-extensions>=3.7.4.3 in /usr/local/lib/python3.6/dist-packages (from tf-agents) (3.7.4.3)\n",
      "Requirement already satisfied: gym>=0.17.0 in /usr/local/lib/python3.6/dist-packages (from tf-agents) (0.17.3)\n",
      "Requirement already satisfied: absl-py>=0.6.1 in /usr/local/lib/python3.6/dist-packages (from tf-agents) (0.10.0)\n",
      "Requirement already satisfied: gin-config>=0.4.0 in /usr/local/lib/python3.6/dist-packages (from tf-agents) (0.4.0)\n",
      "Requirement already satisfied: six>=1.10.0 in /usr/local/lib/python3.6/dist-packages (from tf-agents) (1.15.0)\n",
      "Requirement already satisfied: wrapt>=1.11.1 in /usr/local/lib/python3.6/dist-packages (from tf-agents) (1.12.1)\n",
      "Requirement already satisfied: gast>=0.3.2 in /usr/local/lib/python3.6/dist-packages (from tensorflow-probability>=0.12.1->tf-agents) (0.3.3)\n",
      "Requirement already satisfied: decorator in /usr/local/lib/python3.6/dist-packages (from tensorflow-probability>=0.12.1->tf-agents) (4.4.2)\n",
      "Requirement already satisfied: dm-tree in /usr/local/lib/python3.6/dist-packages (from tensorflow-probability>=0.12.1->tf-agents) (0.1.5)\n",
      "Requirement already satisfied: setuptools in /usr/local/lib/python3.6/dist-packages (from protobuf>=3.11.3->tf-agents) (51.1.2)\n",
      "Requirement already satisfied: pyglet<=1.5.0,>=1.4.0 in /usr/local/lib/python3.6/dist-packages (from gym>=0.17.0->tf-agents) (1.5.0)\n",
      "Requirement already satisfied: scipy in /usr/local/lib/python3.6/dist-packages (from gym>=0.17.0->tf-agents) (1.4.1)\n",
      "Requirement already satisfied: future in /usr/local/lib/python3.6/dist-packages (from pyglet<=1.5.0,>=1.4.0->gym>=0.17.0->tf-agents) (0.16.0)\n"
     ]
    }
   ],
   "source": [
    "#hide\n",
    "!sudo apt-get install -y xvfb ffmpeg\n",
    "!pip install 'imageio==2.4.0'\n",
    "!pip install pyvirtualdisplay\n",
    "!pip install tf-agents"
   ]
  },
  {
   "cell_type": "code",
   "execution_count": null,
   "metadata": {
    "id": "sMitx5qSgJk1"
   },
   "outputs": [],
   "source": [
    "from __future__ import absolute_import, division, print_function\n",
    "import base64\n",
    "import imageio\n",
    "import IPython\n",
    "import matplotlib\n",
    "import matplotlib.pyplot as plt\n",
    "import numpy as np\n",
    "import PIL.Image\n",
    "import pyvirtualdisplay\n",
    "import tensorflow as tf\n",
    "from tf_agents.agents.dqn import dqn_agent\n",
    "from tf_agents.drivers import dynamic_step_driver\n",
    "from tf_agents.environments import suite_gym\n",
    "from tf_agents.environments import tf_py_environment\n",
    "from tf_agents.eval import metric_utils\n",
    "from tf_agents.metrics import tf_metrics\n",
    "from tf_agents.networks import q_network\n",
    "from tf_agents.policies import random_tf_policy\n",
    "from tf_agents.replay_buffers import tf_uniform_replay_buffer\n",
    "from tf_agents.trajectories import trajectory\n",
    "from tf_agents.utils import common"
   ]
  },
  {
   "cell_type": "code",
   "execution_count": null,
   "metadata": {
    "colab": {
     "base_uri": "https://localhost:8080/",
     "height": 35
    },
    "id": "1K7_uLc_nrCs",
    "outputId": "eafce333-e8e1-461f-ea2a-0f37125aa724"
   },
   "outputs": [
    {
     "data": {
      "application/vnd.google.colaboratory.intrinsic+json": {
       "type": "string"
      },
      "text/plain": [
       "'2.4.0'"
      ]
     },
     "execution_count": 75,
     "metadata": {
      "tags": []
     },
     "output_type": "execute_result"
    }
   ],
   "source": [
    "tf.version.VERSION"
   ]
  },
  {
   "cell_type": "markdown",
   "metadata": {
    "id": "Cm53yvG3naxc"
   },
   "source": [
    "The following is needed for rendering a virtual display:"
   ]
  },
  {
   "cell_type": "code",
   "execution_count": null,
   "metadata": {
    "id": "J6HsdS5GbSjd"
   },
   "outputs": [],
   "source": [
    "tf.compat.v1.enable_v2_behavior()\n",
    "display = pyvirtualdisplay.Display(visible=0, size=(1400, 900)).start()"
   ]
  },
  {
   "cell_type": "code",
   "execution_count": null,
   "metadata": {
    "id": "FGSsxkOkEkxF"
   },
   "outputs": [],
   "source": [
    "#hide\n",
    "# base_dir = root_dir + 'RL/TF-Agents/blog_posts/TF-Agents-CartPole/'\n",
    "# base_dir + 'images/graphical_representation_of_rl.png'"
   ]
  },
  {
   "cell_type": "markdown",
   "metadata": {
    "id": "y1s77CKrv1m_"
   },
   "source": [
    "## 4. Hyperparameters\n",
    "Here we specify all the hyperparameters for the problem:"
   ]
  },
  {
   "cell_type": "code",
   "execution_count": null,
   "metadata": {
    "id": "psVAtI4Vv4zL"
   },
   "outputs": [],
   "source": [
    "NUM_ITERATIONS = 20000\n",
    "\n",
    "INITIAL_COLLECT_STEPS = 100\n",
    "COLLECT_STEPS_PER_ITERATION = 1\n",
    "REPLAY_BUFFER_MAX_LENGTH = 100000\n",
    "\n",
    "BATCH_SIZE = 64\n",
    "LEARNING_RATE = 1e-3\n",
    "LOG_INTERVAL = 200\n",
    "\n",
    "NUM_EVAL_EPISODES = 10\n",
    "EVAL_INTERVAL = 1000"
   ]
  },
  {
   "cell_type": "markdown",
   "metadata": {
    "id": "w913YTn-4pOU"
   },
   "source": [
    "## 5. Graphical Representation of the Problem\n",
    "\n",
    "We will work with a graphical representation of our cart-and-pole problem, rather than to just ramble on with words. This will enhance the description. The graphic will also include some TF-Agents specifics. Here is the representation:\n",
    "\n",
    "![Figure 1 Graphical Representation](../images/graphical_representation_of_rl.png)"
   ]
  },
  {
   "cell_type": "code",
   "execution_count": null,
   "metadata": {
    "id": "KRG0AYE6Ocgy"
   },
   "outputs": [],
   "source": [
    "#hide\n",
    "# import Image\n",
    "# im = PIL.Image.open(base_dir+'graphical_representation_of_rl.png')"
   ]
  },
  {
   "cell_type": "markdown",
   "metadata": {
    "id": "VMsJC3DEgI0x"
   },
   "source": [
    "## 6. Environment\n",
    "\n",
    "Let's start with the controller. In Reinforcement Learning, the controlled entity is known as an **environment**. The TF-Agents framework contain some ready to use environments that can be created in TF-Agents using the `tf_agents.environments` suites. Fortunately, it makes access to the cart-and-pole environment (setup by OpenAI Gym) easy. Next, we load the cart-and-pole environment from the OpenAI Gym suite. "
   ]
  },
  {
   "cell_type": "code",
   "execution_count": null,
   "metadata": {
    "id": "pYEz-S9gEv2-"
   },
   "outputs": [],
   "source": [
    "env_name = 'CartPole-v0'\n",
    "env = suite_gym.load(env_name)"
   ]
  },
  {
   "cell_type": "markdown",
   "metadata": {
    "id": "IIHYVBkuvPNw"
   },
   "source": [
    "You can render this environment to see how it looks. A free-swinging pole is attached to a cart.  The goal is to move the cart right or left in order to keep the pole pointing up. To verify, we can inspect our loaded environment with:"
   ]
  },
  {
   "cell_type": "code",
   "execution_count": null,
   "metadata": {
    "colab": {
     "base_uri": "https://localhost:8080/",
     "height": 417
    },
    "id": "RlO7WIQHu_7D",
    "outputId": "d3574103-c7dc-4c1a-ab7f-c6c66ddc727d"
   },
   "outputs": [
    {
     "data": {
      "image/png": "[encoded data removed]",
      "text/plain": [
       "<PIL.Image.Image image mode=RGB size=600x400 at 0x7F1BDA8E8BE0>"
      ]
     },
     "execution_count": 82,
     "metadata": {
      "tags": []
     },
     "output_type": "execute_result"
    }
   ],
   "source": [
    "env.reset()\n",
    "PIL.Image.fromarray(env.render())"
   ]
  },
  {
   "cell_type": "markdown",
   "metadata": {
    "id": "NSmAGfjnRzUE"
   },
   "source": [
    "### Input to Environment\n",
    "\n",
    "The specification of inputs to the environment is provided by the `env.action_spec` method:"
   ]
  },
  {
   "cell_type": "code",
   "execution_count": null,
   "metadata": {
    "colab": {
     "base_uri": "https://localhost:8080/"
    },
    "id": "xBBaR-jTSJ3B",
    "outputId": "43cf0ab0-1f97-418d-97fa-4a28626f499b"
   },
   "outputs": [
    {
     "data": {
      "text/plain": [
       "BoundedArraySpec(shape=(), dtype=dtype('int64'), name='action', minimum=0, maximum=1)"
      ]
     },
     "execution_count": 83,
     "metadata": {
      "tags": []
     },
     "output_type": "execute_result"
    }
   ],
   "source": [
    "env.action_spec()"
   ]
  },
  {
   "cell_type": "markdown",
   "metadata": {
    "id": "wsQ8Qb5gSXSP"
   },
   "source": [
    "`shape` specifies the structure of the input which is a scalar in this case. `dtype` is the data type which is an `int64`. The `minimum` value of the action is `0` and the `maximum` is `1`. We will use the convention that the `action` on the cart is as follows:\n",
    "\n",
    "* `0` means LEFT\n",
    "* `1` means RIGHT"
   ]
  },
  {
   "cell_type": "markdown",
   "metadata": {
    "id": "r_fatIpdUMMg"
   },
   "source": [
    "### Evolution of the Environment\n",
    "\n",
    "The arrival of an `action` at the input of the environment leads to the update of its state. This is how the environment evolves. To advance the state of the environment, the `environment.step` method takes an input `action` and returns a `TimeStep` tuple containing the next observation of the environment and the reward for the action.\n",
    "\n"
   ]
  },
  {
   "cell_type": "markdown",
   "metadata": {
    "id": "4MoIFnVtVJuA"
   },
   "source": [
    "### Output from Environment\n",
    "\n",
    "The specification of output from the environment is provided by the `env.time_step_spec` method:"
   ]
  },
  {
   "cell_type": "code",
   "execution_count": null,
   "metadata": {
    "colab": {
     "base_uri": "https://localhost:8080/"
    },
    "id": "YxRXy0PPSJzL",
    "outputId": "01c7f552-b725-4f4e-8510-dc10c1279ce0"
   },
   "outputs": [
    {
     "data": {
      "text/plain": [
       "TimeStep(step_type=ArraySpec(shape=(), dtype=dtype('int32'), name='step_type'), reward=ArraySpec(shape=(), dtype=dtype('float32'), name='reward'), discount=BoundedArraySpec(shape=(), dtype=dtype('float32'), name='discount', minimum=0.0, maximum=1.0), observation=BoundedArraySpec(shape=(4,), dtype=dtype('float32'), name='observation', minimum=[-4.8000002e+00 -3.4028235e+38 -4.1887903e-01 -3.4028235e+38], maximum=[4.8000002e+00 3.4028235e+38 4.1887903e-01 3.4028235e+38]))"
      ]
     },
     "execution_count": 84,
     "metadata": {
      "tags": []
     },
     "output_type": "execute_result"
    }
   ],
   "source": [
    "env.time_step_spec()"
   ]
  },
  {
   "cell_type": "markdown",
   "metadata": {
    "id": "gtWKdiFKVouy"
   },
   "source": [
    "This specification has the following fields:"
   ]
  },
  {
   "cell_type": "code",
   "execution_count": null,
   "metadata": {
    "colab": {
     "base_uri": "https://localhost:8080/"
    },
    "id": "LyEA8FFHSJvj",
    "outputId": "2cbc18dd-42c9-4f3d-c760-b70db0551bb5"
   },
   "outputs": [
    {
     "data": {
      "text/plain": [
       "('step_type', 'reward', 'discount', 'observation')"
      ]
     },
     "execution_count": 85,
     "metadata": {
      "tags": []
     },
     "output_type": "execute_result"
    }
   ],
   "source": [
    "env.time_step_spec()._fields"
   ]
  },
  {
   "cell_type": "markdown",
   "metadata": {
    "id": "C4cg3P9wcmOb"
   },
   "source": [
    "The `step_type` indicates whether a step is the first step, a middle step, or the last step in an episode:"
   ]
  },
  {
   "cell_type": "code",
   "execution_count": null,
   "metadata": {
    "colab": {
     "base_uri": "https://localhost:8080/"
    },
    "id": "qvXKTwO7SJks",
    "outputId": "b56e0e30-3c63-4f92-8a08-b32c60467ee9"
   },
   "outputs": [
    {
     "data": {
      "text/plain": [
       "ArraySpec(shape=(), dtype=dtype('int32'), name='step_type')"
      ]
     },
     "execution_count": 86,
     "metadata": {
      "tags": []
     },
     "output_type": "execute_result"
    }
   ],
   "source": [
    "env.time_step_spec().step_type"
   ]
  },
  {
   "cell_type": "markdown",
   "metadata": {
    "id": "byT1cNWOc-de"
   },
   "source": [
    "The `reward` is a scalar which conveys the reward from the environment:"
   ]
  },
  {
   "cell_type": "code",
   "execution_count": null,
   "metadata": {
    "colab": {
     "base_uri": "https://localhost:8080/"
    },
    "id": "mbWtFTCRdBou",
    "outputId": "1574f12f-5c97-482c-a61e-eca46f18379d"
   },
   "outputs": [
    {
     "data": {
      "text/plain": [
       "ArraySpec(shape=(), dtype=dtype('float32'), name='reward')"
      ]
     },
     "execution_count": 87,
     "metadata": {
      "tags": []
     },
     "output_type": "execute_result"
    }
   ],
   "source": [
    "env.time_step_spec().reward"
   ]
  },
  {
   "cell_type": "markdown",
   "metadata": {
    "id": "fb3PnaHMdVSH"
   },
   "source": [
    "The `discount` is a factor that modifies the `reward`:"
   ]
  },
  {
   "cell_type": "code",
   "execution_count": null,
   "metadata": {
    "colab": {
     "base_uri": "https://localhost:8080/"
    },
    "id": "qEvlLMBSdBhp",
    "outputId": "0728404c-d691-47ee-9ef7-30a00e2067b8"
   },
   "outputs": [
    {
     "data": {
      "text/plain": [
       "BoundedArraySpec(shape=(), dtype=dtype('float32'), name='discount', minimum=0.0, maximum=1.0)"
      ]
     },
     "execution_count": 88,
     "metadata": {
      "tags": []
     },
     "output_type": "execute_result"
    }
   ],
   "source": [
    "env.time_step_spec().discount"
   ]
  },
  {
   "cell_type": "markdown",
   "metadata": {
    "id": "SnMNcvGwdluI"
   },
   "source": [
    "The `observation` is the observable state of the environment:"
   ]
  },
  {
   "cell_type": "code",
   "execution_count": null,
   "metadata": {
    "colab": {
     "base_uri": "https://localhost:8080/"
    },
    "id": "L4ImxIaRdBc0",
    "outputId": "74c9caab-274b-4739-cc11-10582389668e"
   },
   "outputs": [
    {
     "data": {
      "text/plain": [
       "BoundedArraySpec(shape=(4,), dtype=dtype('float32'), name='observation', minimum=[-4.8000002e+00 -3.4028235e+38 -4.1887903e-01 -3.4028235e+38], maximum=[4.8000002e+00 3.4028235e+38 4.1887903e-01 3.4028235e+38])"
      ]
     },
     "execution_count": 89,
     "metadata": {
      "tags": []
     },
     "output_type": "execute_result"
    }
   ],
   "source": [
    "env.time_step_spec().observation"
   ]
  },
  {
   "cell_type": "markdown",
   "metadata": {
    "id": "zN7rw5a-d6v3"
   },
   "source": [
    "In this case we have a vector with 4 elements - one each for the cart displacement, cart velocity, pole angle, and pole angular velocity. "
   ]
  },
  {
   "cell_type": "markdown",
   "metadata": {
    "id": "IVllomMLfPzO"
   },
   "source": [
    "### Demonstrate the evolution of the environment\n",
    "\n",
    "Let's submit 10 `RIGHT` actions to the environment, just for fun:\n"
   ]
  },
  {
   "cell_type": "markdown",
   "metadata": {
    "id": "dye0LOUvgr5T"
   },
   "source": [
    "It is interesting to see an agent actually performing a task in an environment. \n",
    "\n",
    "First, create a function to embed videos in the notebook."
   ]
  },
  {
   "cell_type": "code",
   "execution_count": null,
   "metadata": {
    "id": "l7YqTromgr5T"
   },
   "outputs": [],
   "source": [
    "def embed_mp4(filename):\n",
    "  \"\"\"Embeds an mp4 file in the notebook.\"\"\"\n",
    "  video = open(filename,'rb').read()\n",
    "  b64 = base64.b64encode(video)\n",
    "  tag = '''\n",
    "  <video width=\"640\" height=\"480\" controls>\n",
    "    <source src=\"data:video/mp4;base64,{0}\" type=\"video/mp4\">\n",
    "  Your browser does not support the video tag.\n",
    "  </video>'''.format(b64.decode())\n",
    "\n",
    "  return IPython.display.HTML(tag)"
   ]
  },
  {
   "cell_type": "markdown",
   "metadata": {
    "id": "-D4Z-7X9gr5U"
   },
   "source": [
    "Now iterate through a few episodes of the Cartpole game with the agent. The underlying Python environment (the one \"inside\" the TensorFlow environment wrapper) provides a `render()` method, which outputs an image of the environment state. These can be collected into a video."
   ]
  },
  {
   "cell_type": "code",
   "execution_count": null,
   "metadata": {
    "id": "wLQGQZVHgr5U"
   },
   "outputs": [],
   "source": [
    "def create_video(filename, action, num_steps=10, fps=30):\n",
    "  filename = filename + \".mp4\"\n",
    "  env.reset()\n",
    "  with imageio.get_writer(filename, fps=fps) as video:\n",
    "    video.append_data(env.render())\n",
    "    for _ in range(num_steps):\n",
    "      tstep = env.step(action); print(tstep)\n",
    "      video.append_data(env.render())\n",
    "  return embed_mp4(filename)"
   ]
  },
  {
   "cell_type": "code",
   "execution_count": null,
   "metadata": {
    "id": "fgarXWXydBaF"
   },
   "outputs": [],
   "source": [
    "action = np.array(1, dtype=np.int32) #move RIGHT action"
   ]
  },
  {
   "cell_type": "code",
   "execution_count": null,
   "metadata": {
    "colab": {
     "base_uri": "https://localhost:8080/",
     "height": 1000
    },
    "id": "MSjp-UcydBXL",
    "outputId": "b38fcec2-cc02-49ba-9494-4fb7155c3d43"
   },
   "outputs": [
    {
     "name": "stderr",
     "output_type": "stream",
     "text": [
      "WARNING:root:IMAGEIO FFMPEG_WRITER WARNING: input image is not divisible by macro_block_size=16, resizing from (400, 600) to (400, 608) to ensure video compatibility with most codecs and players. To prevent resizing, make your input image divisible by the macro_block_size or set the macro_block_size to None (risking incompatibility). You may also see a FFMPEG warning concerning speedloss due to data not being aligned.\n"
     ]
    },
    {
     "name": "stdout",
     "output_type": "stream",
     "text": [
      "TimeStep(step_type=array(1, dtype=int32), reward=array(1., dtype=float32), discount=array(1., dtype=float32), observation=array([-0.02020498,  0.21937552, -0.02017608, -0.34391108], dtype=float32))\n",
      "TimeStep(step_type=array(1, dtype=int32), reward=array(1., dtype=float32), discount=array(1., dtype=float32), observation=array([-0.01581747,  0.4147786 , -0.0270543 , -0.6428874 ], dtype=float32))\n",
      "TimeStep(step_type=array(1, dtype=int32), reward=array(1., dtype=float32), discount=array(1., dtype=float32), observation=array([-0.0075219 ,  0.610267  , -0.03991205, -0.9439657 ], dtype=float32))\n",
      "TimeStep(step_type=array(1, dtype=int32), reward=array(1., dtype=float32), discount=array(1., dtype=float32), observation=array([ 0.00468344,  0.80590326, -0.05879136, -1.2489173 ], dtype=float32))\n",
      "TimeStep(step_type=array(1, dtype=int32), reward=array(1., dtype=float32), discount=array(1., dtype=float32), observation=array([ 0.0208015 ,  1.0017276 , -0.08376971, -1.5594211 ], dtype=float32))\n",
      "TimeStep(step_type=array(1, dtype=int32), reward=array(1., dtype=float32), discount=array(1., dtype=float32), observation=array([ 0.04083605,  1.1977463 , -0.11495813, -1.8770176 ], dtype=float32))\n",
      "TimeStep(step_type=array(1, dtype=int32), reward=array(1., dtype=float32), discount=array(1., dtype=float32), observation=array([ 0.06479098,  1.3939193 , -0.15249848, -2.2030582 ], dtype=float32))\n",
      "TimeStep(step_type=array(1, dtype=int32), reward=array(1., dtype=float32), discount=array(1., dtype=float32), observation=array([ 0.09266937,  1.5901439 , -0.19655965, -2.5386403 ], dtype=float32))\n",
      "TimeStep(step_type=array(2, dtype=int32), reward=array(1., dtype=float32), discount=array(0., dtype=float32), observation=array([ 0.12447225,  1.7862376 , -0.24733245, -2.8845341 ], dtype=float32))\n",
      "TimeStep(step_type=array(0, dtype=int32), reward=array(0., dtype=float32), discount=array(1., dtype=float32), observation=array([ 0.01009047, -0.03597898,  0.02516665,  0.00526722], dtype=float32))\n",
      "TimeStep(step_type=array(1, dtype=int32), reward=array(1., dtype=float32), discount=array(1., dtype=float32), observation=array([ 0.00937089,  0.15877317,  0.02527199, -0.27937028], dtype=float32))\n",
      "TimeStep(step_type=array(1, dtype=int32), reward=array(1., dtype=float32), discount=array(1., dtype=float32), observation=array([ 0.01254635,  0.35352567,  0.01968459, -0.5639766 ], dtype=float32))\n",
      "TimeStep(step_type=array(1, dtype=int32), reward=array(1., dtype=float32), discount=array(1., dtype=float32), observation=array([ 0.01961686,  0.54836595,  0.00840506, -0.85039353], dtype=float32))\n",
      "TimeStep(step_type=array(1, dtype=int32), reward=array(1., dtype=float32), discount=array(1., dtype=float32), observation=array([ 0.03058418,  0.7433723 , -0.00860281, -1.1404216 ], dtype=float32))\n",
      "TimeStep(step_type=array(1, dtype=int32), reward=array(1., dtype=float32), discount=array(1., dtype=float32), observation=array([ 0.04545163,  0.93860567, -0.03141125, -1.4357901 ], dtype=float32))\n",
      "TimeStep(step_type=array(1, dtype=int32), reward=array(1., dtype=float32), discount=array(1., dtype=float32), observation=array([ 0.06422374,  1.1341006 , -0.06012705, -1.738121  ], dtype=float32))\n",
      "TimeStep(step_type=array(1, dtype=int32), reward=array(1., dtype=float32), discount=array(1., dtype=float32), observation=array([ 0.08690576,  1.3298539 , -0.09488947, -2.0488873 ], dtype=float32))\n",
      "TimeStep(step_type=array(1, dtype=int32), reward=array(1., dtype=float32), discount=array(1., dtype=float32), observation=array([ 0.11350283,  1.5258118 , -0.13586721, -2.3693573 ], dtype=float32))\n",
      "TimeStep(step_type=array(1, dtype=int32), reward=array(1., dtype=float32), discount=array(1., dtype=float32), observation=array([ 0.14401907,  1.7218534 , -0.18325436, -2.700532  ], dtype=float32))\n",
      "TimeStep(step_type=array(2, dtype=int32), reward=array(1., dtype=float32), discount=array(0., dtype=float32), observation=array([ 0.17845613,  1.9177724 , -0.23726499, -3.0430653 ], dtype=float32))\n",
      "TimeStep(step_type=array(0, dtype=int32), reward=array(0., dtype=float32), discount=array(1., dtype=float32), observation=array([ 0.043414  ,  0.03911114, -0.04063306, -0.04680319], dtype=float32))\n",
      "TimeStep(step_type=array(1, dtype=int32), reward=array(1., dtype=float32), discount=array(1., dtype=float32), observation=array([ 0.04419622,  0.23479147, -0.04156913, -0.35202426], dtype=float32))\n",
      "TimeStep(step_type=array(1, dtype=int32), reward=array(1., dtype=float32), discount=array(1., dtype=float32), observation=array([ 0.04889205,  0.43047914, -0.04860961, -0.65752   ], dtype=float32))\n",
      "TimeStep(step_type=array(1, dtype=int32), reward=array(1., dtype=float32), discount=array(1., dtype=float32), observation=array([ 0.05750163,  0.6262428 , -0.06176001, -0.9651042 ], dtype=float32))\n",
      "TimeStep(step_type=array(1, dtype=int32), reward=array(1., dtype=float32), discount=array(1., dtype=float32), observation=array([ 0.07002649,  0.82213753, -0.0810621 , -1.276532  ], dtype=float32))\n",
      "TimeStep(step_type=array(1, dtype=int32), reward=array(1., dtype=float32), discount=array(1., dtype=float32), observation=array([ 0.08646924,  1.0181942 , -0.10659274, -1.5934575 ], dtype=float32))\n",
      "TimeStep(step_type=array(1, dtype=int32), reward=array(1., dtype=float32), discount=array(1., dtype=float32), observation=array([ 0.10683312,  1.2144072 , -0.13846189, -1.9173855 ], dtype=float32))\n",
      "TimeStep(step_type=array(1, dtype=int32), reward=array(1., dtype=float32), discount=array(1., dtype=float32), observation=array([ 0.13112126,  1.410721  , -0.1768096 , -2.2496157 ], dtype=float32))\n",
      "TimeStep(step_type=array(2, dtype=int32), reward=array(1., dtype=float32), discount=array(0., dtype=float32), observation=array([ 0.15933569,  1.6070133 , -0.2218019 , -2.5911756 ], dtype=float32))\n",
      "TimeStep(step_type=array(0, dtype=int32), reward=array(0., dtype=float32), discount=array(1., dtype=float32), observation=array([ 0.02383677,  0.03858507, -0.03498537, -0.00475328], dtype=float32))\n",
      "TimeStep(step_type=array(1, dtype=int32), reward=array(1., dtype=float32), discount=array(1., dtype=float32), observation=array([ 0.02460848,  0.23419084, -0.03508044, -0.30826598], dtype=float32))\n",
      "TimeStep(step_type=array(1, dtype=int32), reward=array(1., dtype=float32), discount=array(1., dtype=float32), observation=array([ 0.02929229,  0.4297946 , -0.04124576, -0.6118027 ], dtype=float32))\n",
      "TimeStep(step_type=array(1, dtype=int32), reward=array(1., dtype=float32), discount=array(1., dtype=float32), observation=array([ 0.03788818,  0.625468  , -0.05348181, -0.91718596], dtype=float32))\n",
      "TimeStep(step_type=array(1, dtype=int32), reward=array(1., dtype=float32), discount=array(1., dtype=float32), observation=array([ 0.05039755,  0.8212707 , -0.07182553, -1.2261863 ], dtype=float32))\n",
      "TimeStep(step_type=array(1, dtype=int32), reward=array(1., dtype=float32), discount=array(1., dtype=float32), observation=array([ 0.06682296,  1.01724   , -0.09634926, -1.540481  ], dtype=float32))\n",
      "TimeStep(step_type=array(1, dtype=int32), reward=array(1., dtype=float32), discount=array(1., dtype=float32), observation=array([ 0.08716776,  1.2133797 , -0.12715888, -1.8616087 ], dtype=float32))\n",
      "TimeStep(step_type=array(1, dtype=int32), reward=array(1., dtype=float32), discount=array(1., dtype=float32), observation=array([ 0.11143535,  1.409646  , -0.16439106, -2.1909153 ], dtype=float32))\n",
      "TimeStep(step_type=array(1, dtype=int32), reward=array(1., dtype=float32), discount=array(1., dtype=float32), observation=array([ 0.13962828,  1.6059324 , -0.20820937, -2.5294888 ], dtype=float32))\n",
      "TimeStep(step_type=array(2, dtype=int32), reward=array(1., dtype=float32), discount=array(0., dtype=float32), observation=array([ 0.17174692,  1.8020512 , -0.25879914, -2.878086  ], dtype=float32))\n",
      "TimeStep(step_type=array(0, dtype=int32), reward=array(0., dtype=float32), discount=array(1., dtype=float32), observation=array([-0.04581273, -0.04085314, -0.0127504 ,  0.04206099], dtype=float32))\n",
      "TimeStep(step_type=array(1, dtype=int32), reward=array(1., dtype=float32), discount=array(1., dtype=float32), observation=array([-0.0466298 ,  0.15444931, -0.01190918, -0.2546174 ], dtype=float32))\n",
      "TimeStep(step_type=array(1, dtype=int32), reward=array(1., dtype=float32), discount=array(1., dtype=float32), observation=array([-0.04354081,  0.34973925, -0.01700153, -0.5510328 ], dtype=float32))\n",
      "TimeStep(step_type=array(1, dtype=int32), reward=array(1., dtype=float32), discount=array(1., dtype=float32), observation=array([-0.03654603,  0.5450958 , -0.02802218, -0.84902346], dtype=float32))\n",
      "TimeStep(step_type=array(1, dtype=int32), reward=array(1., dtype=float32), discount=array(1., dtype=float32), observation=array([-0.02564411,  0.7405885 , -0.04500265, -1.1503848 ], dtype=float32))\n",
      "TimeStep(step_type=array(1, dtype=int32), reward=array(1., dtype=float32), discount=array(1., dtype=float32), observation=array([-0.01083234,  0.9362679 , -0.06801035, -1.4568331 ], dtype=float32))\n",
      "TimeStep(step_type=array(1, dtype=int32), reward=array(1., dtype=float32), discount=array(1., dtype=float32), observation=array([ 0.00789302,  1.1321553 , -0.09714701, -1.7699646 ], dtype=float32))\n",
      "TimeStep(step_type=array(1, dtype=int32), reward=array(1., dtype=float32), discount=array(1., dtype=float32), observation=array([ 0.03053613,  1.3282304 , -0.1325463 , -2.0912066 ], dtype=float32))\n",
      "TimeStep(step_type=array(1, dtype=int32), reward=array(1., dtype=float32), discount=array(1., dtype=float32), observation=array([ 0.05710074,  1.5244164 , -0.17437044, -2.4217591 ], dtype=float32))\n",
      "TimeStep(step_type=array(2, dtype=int32), reward=array(1., dtype=float32), discount=array(0., dtype=float32), observation=array([ 0.08758906,  1.7205641 , -0.22280562, -2.7625246 ], dtype=float32))\n",
      "TimeStep(step_type=array(0, dtype=int32), reward=array(0., dtype=float32), discount=array(1., dtype=float32), observation=array([ 0.00606389, -0.01771289, -0.02044516, -0.03224904], dtype=float32))\n"
     ]
    },
    {
     "data": {
      "text/html": [
       "\n",
       "  <video width=\"640\" height=\"480\" controls>\n",
       "    <source src=\"data:video/mp4;base64,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\" type=\"video/mp4\">\n",
       "  Your browser does not support the video tag.\n",
       "  </video>"
      ],
      "text/plain": [
       "<IPython.core.display.HTML object>"
      ]
     },
     "execution_count": 93,
     "metadata": {
      "tags": []
     },
     "output_type": "execute_result"
    }
   ],
   "source": [
    "create_video(\"untrained-agent\", action, 50)"
   ]
  },
  {
   "cell_type": "markdown",
   "metadata": {
    "id": "PW6ii0doiXw1"
   },
   "source": [
    "We are not surprised to see the pole repeatedly falling over to the left as the agent repeatedly applies an action to the right."
   ]
  },
  {
   "cell_type": "markdown",
   "metadata": {
    "id": "4JSc9GviWUBK"
   },
   "source": [
    "We will use two environments: one for training and one for evaluation. "
   ]
  },
  {
   "cell_type": "code",
   "execution_count": null,
   "metadata": {
    "id": "N7brXNIGWXjC"
   },
   "outputs": [],
   "source": [
    "train_py_env = suite_gym.load(env_name)\n",
    "eval_py_env = suite_gym.load(env_name)"
   ]
  },
  {
   "cell_type": "markdown",
   "metadata": {
    "id": "aoXsA9sarHO7"
   },
   "source": [
    "### Convert environments to TensorFlow"
   ]
  },
  {
   "cell_type": "markdown",
   "metadata": {
    "id": "zuUqXAVmecTU"
   },
   "source": [
    "The Cartpole environment, like most environments, is written in pure Python. This is converted to TensorFlow using the `TFPyEnvironment` wrapper.\n",
    "\n",
    "The original environment's API uses Numpy arrays. The `TFPyEnvironment` converts these to `Tensors` to make it compatible with Tensorflow agents and policies.\n"
   ]
  },
  {
   "cell_type": "code",
   "execution_count": null,
   "metadata": {
    "id": "Xp-Y4mD6eDhF"
   },
   "outputs": [],
   "source": [
    "train_env = tf_py_environment.TFPyEnvironment(train_py_env)\n",
    "eval_env = tf_py_environment.TFPyEnvironment(eval_py_env)"
   ]
  },
  {
   "cell_type": "markdown",
   "metadata": {
    "id": "E9lW_OZYFR8A"
   },
   "source": [
    "## 7. Agent\n",
    "\n",
    "The controller in our problem is the algorithm used to solve the problem. In RL parlance the controller is known as an `Agent`. TF-Agents provides standard implementations of a variety of `Agents`, including:\n",
    "\n",
    "-   [DQN](https://storage.googleapis.com/deepmind-media/dqn/DQNNaturePaper.pdf)\n",
    "-   [REINFORCE](https://www-anw.cs.umass.edu/~barto/courses/cs687/williams92simple.pdf)\n",
    "-   [DDPG](https://arxiv.org/pdf/1509.02971.pdf)\n",
    "-   [TD3](https://arxiv.org/pdf/1802.09477.pdf)\n",
    "-   [PPO](https://arxiv.org/abs/1707.06347)\n",
    "-   [SAC](https://arxiv.org/abs/1801.01290).\n",
    "\n",
    "For our problem we will use the DQN agent. The DQN agent can be used in any environment which has a discrete action space.\n",
    "\n",
    "The fundamental problem for an Agent is how to find the next best action to submit to the environment. In the case of a DQN Agent the agent makes use of a `QNetwork`, which is a neural network model that can learn to predict `QValues` (expected returns) for all actions, given an observation from the environment. By inspecting the `QValues`, the agent can decide on the best next action."
   ]
  },
  {
   "cell_type": "markdown",
   "metadata": {
    "id": "kWBr2y4_tYIw"
   },
   "source": [
    "### QNetwork\n",
    "\n",
    "We use `tf_agents.networks.q_network` to create a `QNetwork`, passing in the `observation_spec`, `action_spec`, and a tuple `fc_layer_params` describing the number and size of the model's hidden layers. Each value in the tuple specifies the number of neurons for that hidden layer:\n"
   ]
  },
  {
   "cell_type": "code",
   "execution_count": null,
   "metadata": {
    "id": "TgkdEPg_muzV"
   },
   "outputs": [],
   "source": [
    "fc_layer_params = (100,)\n",
    "q_net = q_network.QNetwork(\n",
    "    input_tensor_spec= train_env.observation_spec(), \n",
    "    action_spec=       train_env.action_spec(), \n",
    "    fc_layer_params=   fc_layer_params)"
   ]
  },
  {
   "cell_type": "markdown",
   "metadata": {
    "id": "z62u55hSmviJ"
   },
   "source": [
    "### DqnAgent\n",
    "We now use `tf_agents.agents.dqn.dqn_agent` to instantiate a `DqnAgent`. In addition to the `time_step_spec`, `action_spec` and the QNetwork, the agent constructor also requires an optimizer (in this case, `AdamOptimizer`), a loss function, and an integer step counter."
   ]
  },
  {
   "cell_type": "code",
   "execution_count": null,
   "metadata": {
    "id": "jbY4yrjTEyc9"
   },
   "outputs": [],
   "source": [
    "optimizer = tf.compat.v1.train.AdamOptimizer(learning_rate=LEARNING_RATE)\n",
    "train_step_counter = tf.Variable(0)\n",
    "agent = dqn_agent.DqnAgent(\n",
    "    time_step_spec=     train_env.time_step_spec(),\n",
    "    action_spec=        train_env.action_spec(),\n",
    "    q_network=          q_net,\n",
    "    optimizer=          optimizer,\n",
    "    td_errors_loss_fn=  common.element_wise_squared_loss,\n",
    "    train_step_counter= train_step_counter)\n",
    "agent.initialize()"
   ]
  },
  {
   "cell_type": "markdown",
   "metadata": {
    "id": "I0KLrEPwkn5x"
   },
   "source": [
    "### Policies\n",
    "\n",
    "A policy defines the way an agent acts relative to the environment. The goal of reinforcement learning is to train the underlying model until the policy produces the desired outcome.\n",
    "\n",
    "In this problem:\n",
    "\n",
    "-   The desired outcome is keeping the pole balanced vertically over the cart\n",
    "-   The policy returns an action (LEFT or RIGHT) for each `TimeStep`'s `observation`\n",
    "\n",
    "Agents contain two policies: \n",
    "\n",
    "-   `agent.policy` — The main policy that is used for evaluation and deployment.\n",
    "-   `agent.collect_policy` — A second policy that is used for data collection.\n"
   ]
  },
  {
   "cell_type": "code",
   "execution_count": null,
   "metadata": {
    "colab": {
     "base_uri": "https://localhost:8080/"
    },
    "id": "BwY7StuMkuV4",
    "outputId": "eddbeaed-d198-4189-9922-c2e50cc69812"
   },
   "outputs": [
    {
     "data": {
      "text/plain": [
       "<tf_agents.policies.greedy_policy.GreedyPolicy at 0x7f1bda2d40f0>"
      ]
     },
     "execution_count": 98,
     "metadata": {
      "tags": []
     },
     "output_type": "execute_result"
    }
   ],
   "source": [
    "eval_policy = agent.policy\n",
    "eval_policy"
   ]
  },
  {
   "cell_type": "code",
   "execution_count": null,
   "metadata": {
    "colab": {
     "base_uri": "https://localhost:8080/"
    },
    "id": "aDRtP8G-yxEd",
    "outputId": "1573bb86-2091-4e6d-ef50-2f25f3a663d7"
   },
   "outputs": [
    {
     "data": {
      "text/plain": [
       "<tf_agents.policies.epsilon_greedy_policy.EpsilonGreedyPolicy at 0x7f1bda2cce10>"
      ]
     },
     "execution_count": 99,
     "metadata": {
      "tags": []
     },
     "output_type": "execute_result"
    }
   ],
   "source": [
    "collect_policy = agent.collect_policy\n",
    "collect_policy"
   ]
  },
  {
   "cell_type": "markdown",
   "metadata": {
    "id": "2Qs1Fl3dV0ae"
   },
   "source": [
    "Policies can be created independently of agents. For example, use `tf_agents.policies.random_tf_policy` to create a policy which will randomly select an action for each `time_step`."
   ]
  },
  {
   "cell_type": "code",
   "execution_count": null,
   "metadata": {
    "id": "HE37-UCIrE69"
   },
   "outputs": [],
   "source": [
    "random_policy = random_tf_policy.RandomTFPolicy(\n",
    "    time_step_spec= train_env.time_step_spec(), \n",
    "    action_spec=    train_env.action_spec())"
   ]
  },
  {
   "cell_type": "markdown",
   "metadata": {
    "id": "dOlnlRRsUbxP"
   },
   "source": [
    "To get an action from a policy, call the `policy.action(tstep)` method. The `tstep` of type `TimeStep` contains the observation from the environment. This method returns a `PolicyStep`, which is a named tuple with three components:\n",
    "\n",
    "-   `action` — the action to be taken (in this case, `0` or `1`)\n",
    "-   `state` — used for stateful (that is, RNN-based) policies\n",
    "-   `info` — auxiliary data, such as log probabilities of actions"
   ]
  },
  {
   "cell_type": "markdown",
   "metadata": {
    "id": "7sLfx_CzzNz8"
   },
   "source": [
    "Let's create an example environment and setup a random policy:"
   ]
  },
  {
   "cell_type": "code",
   "execution_count": null,
   "metadata": {
    "id": "5gCcpXswVAxk"
   },
   "outputs": [],
   "source": [
    "example_environment = tf_py_environment.TFPyEnvironment(\n",
    "    suite_gym.load('CartPole-v0'))"
   ]
  },
  {
   "cell_type": "markdown",
   "metadata": {
    "id": "_ZgkSaGhzvgk"
   },
   "source": [
    "We reset this environment:"
   ]
  },
  {
   "cell_type": "code",
   "execution_count": null,
   "metadata": {
    "colab": {
     "base_uri": "https://localhost:8080/"
    },
    "id": "D4DHZtq3Ndis",
    "outputId": "f92796c0-1b0f-4883-a31c-0fa917f22321"
   },
   "outputs": [
    {
     "data": {
      "text/plain": [
       "TimeStep(step_type=<tf.Tensor: shape=(1,), dtype=int32, numpy=array([0], dtype=int32)>, reward=<tf.Tensor: shape=(1,), dtype=float32, numpy=array([0.], dtype=float32)>, discount=<tf.Tensor: shape=(1,), dtype=float32, numpy=array([1.], dtype=float32)>, observation=<tf.Tensor: shape=(1, 4), dtype=float32, numpy=\n",
       "array([[-0.01827296,  0.03853731,  0.0239976 , -0.03041968]],\n",
       "      dtype=float32)>)"
      ]
     },
     "execution_count": 102,
     "metadata": {
      "tags": []
     },
     "output_type": "execute_result"
    }
   ],
   "source": [
    "tstep = example_environment.reset()\n",
    "tstep"
   ]
  },
  {
   "cell_type": "code",
   "execution_count": null,
   "metadata": {
    "colab": {
     "base_uri": "https://localhost:8080/"
    },
    "id": "zqQMzy9Pz4Py",
    "outputId": "74000dfc-3fb1-4d81-ff00-e21b4a9d0564"
   },
   "outputs": [
    {
     "data": {
      "text/plain": [
       "('step_type', 'reward', 'discount', 'observation')"
      ]
     },
     "execution_count": 103,
     "metadata": {
      "tags": []
     },
     "output_type": "execute_result"
    }
   ],
   "source": [
    "tstep._fields"
   ]
  },
  {
   "cell_type": "code",
   "execution_count": null,
   "metadata": {
    "colab": {
     "base_uri": "https://localhost:8080/"
    },
    "id": "rt37ROxD0FXn",
    "outputId": "93fc4d44-20a9-484d-f09b-a792f85c3c21"
   },
   "outputs": [
    {
     "name": "stdout",
     "output_type": "stream",
     "text": [
      "tf.Tensor([0], shape=(1,), dtype=int32)\n",
      "tf.Tensor([0.], shape=(1,), dtype=float32)\n",
      "tf.Tensor([1.], shape=(1,), dtype=float32)\n",
      "tf.Tensor([[-0.01827296  0.03853731  0.0239976  -0.03041968]], shape=(1, 4), dtype=float32)\n"
     ]
    }
   ],
   "source": [
    "print(tstep.step_type)\n",
    "print(tstep.reward)\n",
    "print(tstep.discount)\n",
    "print(tstep.observation)"
   ]
  },
  {
   "cell_type": "markdown",
   "metadata": {
    "id": "tWSFDcAt0X4c"
   },
   "source": [
    "Now we find the `PolicyStep` from which the next `action` can be found:"
   ]
  },
  {
   "cell_type": "code",
   "execution_count": null,
   "metadata": {
    "colab": {
     "base_uri": "https://localhost:8080/"
    },
    "id": "PRFqAUzpNaAW",
    "outputId": "dc6ad1d9-65ed-44c9-ad3a-5f91662ea684"
   },
   "outputs": [
    {
     "data": {
      "text/plain": [
       "PolicyStep(action=<tf.Tensor: shape=(1,), dtype=int64, numpy=array([0])>, state=(), info=())"
      ]
     },
     "execution_count": 105,
     "metadata": {
      "tags": []
     },
     "output_type": "execute_result"
    }
   ],
   "source": [
    "pstep = random_policy.action(tstep)\n",
    "pstep"
   ]
  },
  {
   "cell_type": "code",
   "execution_count": null,
   "metadata": {
    "colab": {
     "base_uri": "https://localhost:8080/"
    },
    "id": "W7llvqyLyfAT",
    "outputId": "34bb2ffc-5bcc-439f-de8a-d26275d2390d"
   },
   "outputs": [
    {
     "data": {
      "text/plain": [
       "('action', 'state', 'info')"
      ]
     },
     "execution_count": 106,
     "metadata": {
      "tags": []
     },
     "output_type": "execute_result"
    }
   ],
   "source": [
    "pstep._fields"
   ]
  },
  {
   "cell_type": "code",
   "execution_count": null,
   "metadata": {
    "colab": {
     "base_uri": "https://localhost:8080/"
    },
    "id": "xJHQbbb586DK",
    "outputId": "d466c1d9-e0b2-417f-a735-0472f96688fc"
   },
   "outputs": [
    {
     "name": "stdout",
     "output_type": "stream",
     "text": [
      "tf.Tensor([0], shape=(1,), dtype=int64)\n",
      "()\n",
      "()\n"
     ]
    }
   ],
   "source": [
    "print(pstep.action)\n",
    "print(pstep.state)\n",
    "print(pstep.info)"
   ]
  },
  {
   "cell_type": "markdown",
   "metadata": {
    "id": "94rCXQtbUbXv"
   },
   "source": [
    "## 8. Metrics and Evaluation\n",
    "\n",
    "The most common metric used to evaluate a policy is the **average return**. The return is the sum of rewards obtained while running a policy in an environment for an episode. Several episodes are run, creating an average return.\n",
    "\n",
    "The following function computes the average return of a policy, given the policy, environment, and a number of episodes.\n"
   ]
  },
  {
   "cell_type": "code",
   "execution_count": null,
   "metadata": {
    "id": "bitzHo5_UbXy"
   },
   "outputs": [],
   "source": [
    "def compute_avg_return(env, pol, num_episodes=10):\n",
    "  total_return = 0.0\n",
    "  for _ in range(num_episodes):\n",
    "    tstep = env.reset()\n",
    "    episode_return = 0.0\n",
    "    while not tstep.is_last():\n",
    "      pstep = pol.action(tstep)\n",
    "      tstep = env.step(pstep.action)\n",
    "      episode_return += tstep.reward\n",
    "    total_return += episode_return\n",
    "  avg_return = total_return / num_episodes\n",
    "  return avg_return.numpy()[0]\n",
    "# See also the metrics module for standard implementations of different metrics.\n",
    "# https://github.com/tensorflow/agents/tree/master/tf_agents/metrics"
   ]
  },
  {
   "cell_type": "markdown",
   "metadata": {
    "id": "_snCVvq5Z8lJ"
   },
   "source": [
    "Running this computation on the `random_policy` shows a baseline performance in the environment."
   ]
  },
  {
   "cell_type": "code",
   "execution_count": null,
   "metadata": {
    "colab": {
     "base_uri": "https://localhost:8080/"
    },
    "id": "xKFMXrtGzdqy",
    "outputId": "7b10ac42-e1d2-4258-e0c2-0e5429b8f8cb"
   },
   "outputs": [
    {
     "data": {
      "text/plain": [
       "10"
      ]
     },
     "execution_count": 109,
     "metadata": {
      "tags": []
     },
     "output_type": "execute_result"
    }
   ],
   "source": [
    "NUM_EVAL_EPISODES"
   ]
  },
  {
   "cell_type": "code",
   "execution_count": null,
   "metadata": {
    "colab": {
     "base_uri": "https://localhost:8080/"
    },
    "id": "9bgU6Q6BZ8Bp",
    "outputId": "185affe7-7360-4262-d706-7a8753587eea"
   },
   "outputs": [
    {
     "data": {
      "text/plain": [
       "19.2"
      ]
     },
     "execution_count": 110,
     "metadata": {
      "tags": []
     },
     "output_type": "execute_result"
    }
   ],
   "source": [
    "compute_avg_return(eval_env, random_policy, NUM_EVAL_EPISODES)"
   ]
  },
  {
   "cell_type": "markdown",
   "metadata": {
    "id": "NLva6g2jdWgr"
   },
   "source": [
    "## 9. Replay Buffer\n",
    "\n",
    "The replay buffer keeps track of data collected from the environment. We will use `tf_agents.replay_buffers.tf_uniform_replay_buffer.TFUniformReplayBuffer`, as it is the most common. \n",
    "\n",
    "The constructor requires the specs for the data it will be collecting. This is available from the agent using the `collect_data_spec` method. The batch size and maximum buffer length are also required.\n"
   ]
  },
  {
   "cell_type": "code",
   "execution_count": null,
   "metadata": {
    "id": "vX2zGUWJGWAl"
   },
   "outputs": [],
   "source": [
    "replay_buffer = tf_uniform_replay_buffer.TFUniformReplayBuffer(\n",
    "    data_spec=  agent.collect_data_spec,\n",
    "    batch_size= train_env.batch_size,\n",
    "    max_length= REPLAY_BUFFER_MAX_LENGTH)"
   ]
  },
  {
   "cell_type": "markdown",
   "metadata": {
    "id": "ZGNTDJpZs4NN"
   },
   "source": [
    "For most agents, `collect_data_spec` is a named tuple called `Trajectory`, containing the specs for observations, actions, rewards, and other items."
   ]
  },
  {
   "cell_type": "code",
   "execution_count": null,
   "metadata": {
    "colab": {
     "base_uri": "https://localhost:8080/"
    },
    "id": "_IZ-3HcqgE1z",
    "outputId": "818fad3f-0526-4d26-a2f5-8bf2a40b4310"
   },
   "outputs": [
    {
     "data": {
      "text/plain": [
       "Trajectory(step_type=TensorSpec(shape=(), dtype=tf.int32, name='step_type'), observation=BoundedTensorSpec(shape=(4,), dtype=tf.float32, name='observation', minimum=array([-4.8000002e+00, -3.4028235e+38, -4.1887903e-01, -3.4028235e+38],\n",
       "      dtype=float32), maximum=array([4.8000002e+00, 3.4028235e+38, 4.1887903e-01, 3.4028235e+38],\n",
       "      dtype=float32)), action=BoundedTensorSpec(shape=(), dtype=tf.int64, name='action', minimum=array(0), maximum=array(1)), policy_info=(), next_step_type=TensorSpec(shape=(), dtype=tf.int32, name='step_type'), reward=TensorSpec(shape=(), dtype=tf.float32, name='reward'), discount=BoundedTensorSpec(shape=(), dtype=tf.float32, name='discount', minimum=array(0., dtype=float32), maximum=array(1., dtype=float32)))"
      ]
     },
     "execution_count": 112,
     "metadata": {
      "tags": []
     },
     "output_type": "execute_result"
    }
   ],
   "source": [
    "agent.collect_data_spec"
   ]
  },
  {
   "cell_type": "code",
   "execution_count": null,
   "metadata": {
    "colab": {
     "base_uri": "https://localhost:8080/"
    },
    "id": "sy6g1tGcfRlw",
    "outputId": "7126fbbd-e221-463b-9032-59d52db3d9dc"
   },
   "outputs": [
    {
     "data": {
      "text/plain": [
       "('step_type',\n",
       " 'observation',\n",
       " 'action',\n",
       " 'policy_info',\n",
       " 'next_step_type',\n",
       " 'reward',\n",
       " 'discount')"
      ]
     },
     "execution_count": 113,
     "metadata": {
      "tags": []
     },
     "output_type": "execute_result"
    }
   ],
   "source": [
    "agent.collect_data_spec._fields"
   ]
  },
  {
   "cell_type": "markdown",
   "metadata": {
    "id": "rVD5nQ9ZGo8_"
   },
   "source": [
    "## 10. Data Collection\n",
    "\n",
    "Now we execute the random policy in the environment for a few steps, recording the data in the replay buffer."
   ]
  },
  {
   "cell_type": "code",
   "execution_count": null,
   "metadata": {
    "id": "wr1KSAEGG4h9"
   },
   "outputs": [],
   "source": [
    "def collect_step(env, pol, buffer):\n",
    "  tstep = env.current_time_step()\n",
    "  pstep = pol.action(tstep)\n",
    "  next_tstep = env.step(pstep.action)\n",
    "  traj = trajectory.from_transition(tstep, pstep, next_tstep)\n",
    "  buffer.add_batch(traj) # Add trajectory to the replay buffer\n",
    "\n",
    "def collect_data(env, pol, buffer, steps):\n",
    "  for _ in range(steps):\n",
    "    collect_step(env, pol, buffer)\n",
    "\n",
    "collect_data(train_env, random_policy, replay_buffer, INITIAL_COLLECT_STEPS)\n",
    "\n",
    "# This loop is so common in RL, that we provide standard implementations. \n",
    "# For more details see the drivers module.\n",
    "# https://www.tensorflow.org/agents/api_docs/python/tf_agents/drivers"
   ]
  },
  {
   "cell_type": "markdown",
   "metadata": {
    "id": "84z5pQJdoKxo"
   },
   "source": [
    "The replay buffer is now a collection of Trajectories. Let's inspect one of the Trajectories:"
   ]
  },
  {
   "cell_type": "code",
   "execution_count": null,
   "metadata": {
    "colab": {
     "base_uri": "https://localhost:8080/"
    },
    "id": "4wZnLu2ViO4E",
    "outputId": "3168a9c4-5046-46b5-824b-f88575065d8b"
   },
   "outputs": [
    {
     "name": "stdout",
     "output_type": "stream",
     "text": [
      "<class 'tuple'>\n",
      "2\n",
      "(Trajectory(step_type=<tf.Tensor: shape=(), dtype=int32, numpy=2>, observation=<tf.Tensor: shape=(4,), dtype=float32, numpy=array([-0.00616293, -0.2612567 ,  0.23251233,  1.5463613 ], dtype=float32)>, action=<tf.Tensor: shape=(), dtype=int64, numpy=1>, policy_info=(), next_step_type=<tf.Tensor: shape=(), dtype=int32, numpy=0>, reward=<tf.Tensor: shape=(), dtype=float32, numpy=0.0>, discount=<tf.Tensor: shape=(), dtype=float32, numpy=1.0>), BufferInfo(ids=<tf.Tensor: shape=(), dtype=int64, numpy=29>, probabilities=<tf.Tensor: shape=(), dtype=float32, numpy=0.01>))\n"
     ]
    }
   ],
   "source": [
    "traj = iter(replay_buffer.as_dataset()).next()\n",
    "print(type(traj))\n",
    "print(len(traj))\n",
    "print(traj);"
   ]
  },
  {
   "cell_type": "code",
   "execution_count": null,
   "metadata": {
    "colab": {
     "base_uri": "https://localhost:8080/"
    },
    "id": "bPlmzAvLWwO1",
    "outputId": "52fc933c-f96c-41f5-fd3e-1e2fbf6f0095"
   },
   "outputs": [
    {
     "data": {
      "text/plain": [
       "Trajectory(step_type=<tf.Tensor: shape=(), dtype=int32, numpy=2>, observation=<tf.Tensor: shape=(4,), dtype=float32, numpy=array([-0.00616293, -0.2612567 ,  0.23251233,  1.5463613 ], dtype=float32)>, action=<tf.Tensor: shape=(), dtype=int64, numpy=1>, policy_info=(), next_step_type=<tf.Tensor: shape=(), dtype=int32, numpy=0>, reward=<tf.Tensor: shape=(), dtype=float32, numpy=0.0>, discount=<tf.Tensor: shape=(), dtype=float32, numpy=1.0>)"
      ]
     },
     "execution_count": 116,
     "metadata": {
      "tags": []
     },
     "output_type": "execute_result"
    }
   ],
   "source": [
    "traj[0]"
   ]
  },
  {
   "cell_type": "code",
   "execution_count": null,
   "metadata": {
    "colab": {
     "base_uri": "https://localhost:8080/"
    },
    "id": "d-uvmakNX623",
    "outputId": "cbcc67b3-33dd-4979-a8e7-27496cbe5f16"
   },
   "outputs": [
    {
     "data": {
      "text/plain": [
       "tf_agents.trajectories.trajectory.Trajectory"
      ]
     },
     "execution_count": 117,
     "metadata": {
      "tags": []
     },
     "output_type": "execute_result"
    }
   ],
   "source": [
    "type(traj[0])"
   ]
  },
  {
   "cell_type": "code",
   "execution_count": null,
   "metadata": {
    "colab": {
     "base_uri": "https://localhost:8080/"
    },
    "id": "-jFiMstgYHuK",
    "outputId": "acb839bf-83cb-4751-ccc3-1f0ffd6e6de9"
   },
   "outputs": [
    {
     "data": {
      "text/plain": [
       "('step_type',\n",
       " 'observation',\n",
       " 'action',\n",
       " 'policy_info',\n",
       " 'next_step_type',\n",
       " 'reward',\n",
       " 'discount')"
      ]
     },
     "execution_count": 118,
     "metadata": {
      "tags": []
     },
     "output_type": "execute_result"
    }
   ],
   "source": [
    "traj[0]._fields"
   ]
  },
  {
   "cell_type": "code",
   "execution_count": null,
   "metadata": {
    "colab": {
     "base_uri": "https://localhost:8080/"
    },
    "id": "W0xF1tnC6msn",
    "outputId": "f4a86e9d-bf2d-496e-9439-88ca66863496"
   },
   "outputs": [
    {
     "name": "stdout",
     "output_type": "stream",
     "text": [
      "step_type: tf.Tensor(2, shape=(), dtype=int32)\n",
      "observation: tf.Tensor([-0.00616293 -0.2612567   0.23251233  1.5463613 ], shape=(4,), dtype=float32)\n",
      "action: tf.Tensor(1, shape=(), dtype=int64)\n",
      "policy_info: ()\n",
      "next_step_type: tf.Tensor(0, shape=(), dtype=int32)\n",
      "reward: tf.Tensor(0.0, shape=(), dtype=float32)\n",
      "discount: tf.Tensor(1.0, shape=(), dtype=float32)\n"
     ]
    }
   ],
   "source": [
    "print('step_type:', traj[0].step_type)\n",
    "print('observation:', traj[0].observation)\n",
    "print('action:', traj[0].action)\n",
    "print('policy_info:', traj[0].policy_info)\n",
    "print('next_step_type:', traj[0].next_step_type)\n",
    "print('reward:', traj[0].reward)\n",
    "print('discount:', traj[0].discount)"
   ]
  },
  {
   "cell_type": "code",
   "execution_count": null,
   "metadata": {
    "colab": {
     "base_uri": "https://localhost:8080/"
    },
    "id": "w2J7SAu-YfZ0",
    "outputId": "193189ef-2db4-4c68-9126-3b88105bd541"
   },
   "outputs": [
    {
     "data": {
      "text/plain": [
       "BufferInfo(ids=<tf.Tensor: shape=(), dtype=int64, numpy=29>, probabilities=<tf.Tensor: shape=(), dtype=float32, numpy=0.01>)"
      ]
     },
     "execution_count": 120,
     "metadata": {
      "tags": []
     },
     "output_type": "execute_result"
    }
   ],
   "source": [
    "traj[1]"
   ]
  },
  {
   "cell_type": "code",
   "execution_count": null,
   "metadata": {
    "colab": {
     "base_uri": "https://localhost:8080/"
    },
    "id": "0qQL2QhUYfRk",
    "outputId": "8fcbb757-f23c-4d9d-9162-63af75f49c99"
   },
   "outputs": [
    {
     "data": {
      "text/plain": [
       "tf_agents.replay_buffers.tf_uniform_replay_buffer.BufferInfo"
      ]
     },
     "execution_count": 121,
     "metadata": {
      "tags": []
     },
     "output_type": "execute_result"
    }
   ],
   "source": [
    "type(traj[1])"
   ]
  },
  {
   "cell_type": "code",
   "execution_count": null,
   "metadata": {
    "colab": {
     "base_uri": "https://localhost:8080/"
    },
    "id": "6fwgcbf8Y2p_",
    "outputId": "79caa734-c514-4ba7-d090-d573ec24960b"
   },
   "outputs": [
    {
     "data": {
      "text/plain": [
       "('ids', 'probabilities')"
      ]
     },
     "execution_count": 122,
     "metadata": {
      "tags": []
     },
     "output_type": "execute_result"
    }
   ],
   "source": [
    "traj[1]._fields"
   ]
  },
  {
   "cell_type": "code",
   "execution_count": null,
   "metadata": {
    "colab": {
     "base_uri": "https://localhost:8080/"
    },
    "id": "-6qg48cmY2mF",
    "outputId": "3c1d6366-c51f-4c7d-e620-e5ca7d235584"
   },
   "outputs": [
    {
     "name": "stdout",
     "output_type": "stream",
     "text": [
      "ids: tf.Tensor(29, shape=(), dtype=int64)\n",
      "probabilities: tf.Tensor(0.01, shape=(), dtype=float32)\n"
     ]
    }
   ],
   "source": [
    "print('ids:', traj[1].ids)\n",
    "print('probabilities:', traj[1].probabilities)"
   ]
  },
  {
   "cell_type": "markdown",
   "metadata": {
    "id": "TujU-PMUsKjS"
   },
   "source": [
    "The agent needs access to the replay buffer. TF-Agents provide this access by creating an iterable `tf.data.Dataset` pipeline which will feed data to the agent.\n",
    "\n",
    "Each row of the replay buffer only stores a single observation step. But since the DQN Agent needs both the current and next observation to compute the loss, the dataset pipeline will sample two adjacent rows for each item in the batch (`num_steps=2`).\n",
    "\n",
    "The code also optimize this dataset by running parallel calls and prefetching data."
   ]
  },
  {
   "cell_type": "code",
   "execution_count": null,
   "metadata": {
    "colab": {
     "base_uri": "https://localhost:8080/"
    },
    "id": "QWuA3GbfiASI",
    "outputId": "877bbf5f-dcb2-4a8d-e1f3-aefaa9f435ae"
   },
   "outputs": [
    {
     "name": "stdout",
     "output_type": "stream",
     "text": [
      "64\n"
     ]
    }
   ],
   "source": [
    "print(BATCH_SIZE)"
   ]
  },
  {
   "cell_type": "code",
   "execution_count": null,
   "metadata": {
    "colab": {
     "base_uri": "https://localhost:8080/"
    },
    "id": "ba7bilizt_qW",
    "outputId": "68dce753-7808-4d28-e6a6-ea5245c2b07d"
   },
   "outputs": [
    {
     "data": {
      "text/plain": [
       "<PrefetchDataset shapes: (Trajectory(step_type=(64, 2), observation=(64, 2, 4), action=(64, 2), policy_info=(), next_step_type=(64, 2), reward=(64, 2), discount=(64, 2)), BufferInfo(ids=(64, 2), probabilities=(64,))), types: (Trajectory(step_type=tf.int32, observation=tf.float32, action=tf.int64, policy_info=(), next_step_type=tf.int32, reward=tf.float32, discount=tf.float32), BufferInfo(ids=tf.int64, probabilities=tf.float32))>"
      ]
     },
     "execution_count": 125,
     "metadata": {
      "tags": []
     },
     "output_type": "execute_result"
    }
   ],
   "source": [
    "# Dataset generates trajectories with shape [Bx2x...]\n",
    "dataset = replay_buffer.as_dataset(\n",
    "    num_parallel_calls=3, \n",
    "    sample_batch_size=BATCH_SIZE, \n",
    "    num_steps=2).prefetch(3)\n",
    "dataset"
   ]
  },
  {
   "cell_type": "code",
   "execution_count": null,
   "metadata": {
    "colab": {
     "base_uri": "https://localhost:8080/"
    },
    "id": "K13AST-2ppOq",
    "outputId": "ca632022-0b38-45b1-94b2-242d585aa1a7"
   },
   "outputs": [
    {
     "name": "stdout",
     "output_type": "stream",
     "text": [
      "<tensorflow.python.data.ops.iterator_ops.OwnedIterator object at 0x7f1bd414a710>\n"
     ]
    }
   ],
   "source": [
    "iterator = iter(dataset)\n",
    "print(iterator)"
   ]
  },
  {
   "cell_type": "code",
   "execution_count": null,
   "metadata": {
    "id": "Th5w5Sff0b16"
   },
   "outputs": [],
   "source": [
    "#hide\n",
    "# Compare this representation of replay data \n",
    "# to the collection of individual trajectories shown earlier:\n",
    "# iterator.next()"
   ]
  },
  {
   "cell_type": "markdown",
   "metadata": {
    "id": "hBc9lj9VWWtZ"
   },
   "source": [
    "## 11. Training the agent\n",
    "\n",
    "Two things must happen during the training loop:\n",
    "\n",
    "-   collect data from the environment\n",
    "-   use that data to train the agent's neural network(s)\n",
    "\n",
    "This example also periodicially evaluates the policy and prints the current score.\n",
    "\n",
    "The following will take ~5 minutes to run."
   ]
  },
  {
   "cell_type": "code",
   "execution_count": null,
   "metadata": {
    "colab": {
     "base_uri": "https://localhost:8080/"
    },
    "id": "8vdorhCI74h2",
    "outputId": "8c1deeda-d3c9-4aaf-d7cb-99cf3ab10304"
   },
   "outputs": [
    {
     "data": {
      "text/plain": [
       "20000"
      ]
     },
     "execution_count": 128,
     "metadata": {
      "tags": []
     },
     "output_type": "execute_result"
    }
   ],
   "source": [
    "NUM_ITERATIONS\n",
    "# NUM_ITERATIONS = 20000"
   ]
  },
  {
   "cell_type": "code",
   "execution_count": null,
   "metadata": {
    "colab": {
     "base_uri": "https://localhost:8080/"
    },
    "id": "0pTbJ3PeyF-u",
    "outputId": "c8fb5b24-071d-494d-ac13-126084e8a242"
   },
   "outputs": [
    {
     "name": "stdout",
     "output_type": "stream",
     "text": [
      "CPU times: user 3 µs, sys: 0 ns, total: 3 µs\n",
      "Wall time: 6.44 µs\n",
      "step = 200: loss = 5.8472771644592285\n",
      "step = 400: loss = 6.1065521240234375\n",
      "step = 600: loss = 30.35647964477539\n",
      "step = 800: loss = 51.443580627441406\n",
      "step = 1000: loss = 8.111553192138672\n",
      "step = 1000: Average Return = 42.0\n",
      "step = 1200: loss = 15.172381401062012\n",
      "step = 1400: loss = 3.481518507003784\n",
      "step = 1600: loss = 48.250511169433594\n",
      "step = 1800: loss = 23.229551315307617\n",
      "step = 2000: loss = 22.171497344970703\n",
      "step = 2000: Average Return = 21.399999618530273\n",
      "step = 2200: loss = 19.5601806640625\n",
      "step = 2400: loss = 16.358232498168945\n",
      "step = 2600: loss = 3.6557135581970215\n",
      "step = 2800: loss = 44.43617630004883\n",
      "step = 3000: loss = 47.758426666259766\n",
      "step = 3000: Average Return = 40.900001525878906\n",
      "step = 3200: loss = 5.233551025390625\n",
      "step = 3400: loss = 9.2518310546875\n",
      "step = 3600: loss = 54.544185638427734\n",
      "step = 3800: loss = 72.3006820678711\n",
      "step = 4000: loss = 21.375141143798828\n",
      "step = 4000: Average Return = 63.0\n",
      "step = 4200: loss = 41.15625\n",
      "step = 4400: loss = 7.214105129241943\n",
      "step = 4600: loss = 108.88253784179688\n",
      "step = 4800: loss = 40.52140808105469\n",
      "step = 5000: loss = 37.4377326965332\n",
      "step = 5000: Average Return = 83.4000015258789\n",
      "step = 5200: loss = 120.3891372680664\n",
      "step = 5400: loss = 11.245302200317383\n",
      "step = 5600: loss = 30.03839683532715\n",
      "step = 5800: loss = 64.23017883300781\n",
      "step = 6000: loss = 48.6501579284668\n",
      "step = 6000: Average Return = 144.0\n",
      "step = 6200: loss = 68.4277114868164\n",
      "step = 6400: loss = 19.68730926513672\n",
      "step = 6600: loss = 45.68647384643555\n",
      "step = 6800: loss = 72.20692443847656\n",
      "step = 7000: loss = 9.852011680603027\n",
      "step = 7000: Average Return = 164.3000030517578\n",
      "step = 7200: loss = 10.033541679382324\n",
      "step = 7400: loss = 198.07725524902344\n",
      "step = 7600: loss = 137.63177490234375\n",
      "step = 7800: loss = 223.62005615234375\n",
      "step = 8000: loss = 198.0550994873047\n",
      "step = 8000: Average Return = 178.39999389648438\n",
      "step = 8200: loss = 198.30099487304688\n",
      "step = 8400: loss = 14.453493118286133\n",
      "step = 8600: loss = 343.4920349121094\n",
      "step = 8800: loss = 425.3981018066406\n",
      "step = 9000: loss = 17.297143936157227\n",
      "step = 9000: Average Return = 185.5\n",
      "step = 9200: loss = 137.6107635498047\n",
      "step = 9400: loss = 342.56634521484375\n",
      "step = 9600: loss = 21.620716094970703\n",
      "step = 9800: loss = 236.54286193847656\n",
      "step = 10000: loss = 246.3893280029297\n",
      "step = 10000: Average Return = 193.60000610351562\n",
      "step = 10200: loss = 343.26153564453125\n",
      "step = 10400: loss = 471.0173645019531\n",
      "step = 10600: loss = 394.5465087890625\n",
      "step = 10800: loss = 763.190673828125\n",
      "step = 11000: loss = 503.9163513183594\n",
      "step = 11000: Average Return = 192.10000610351562\n",
      "step = 11200: loss = 1509.2169189453125\n",
      "step = 11400: loss = 29.37891387939453\n",
      "step = 11600: loss = 1267.962158203125\n",
      "step = 11800: loss = 29.946744918823242\n",
      "step = 12000: loss = 27.069908142089844\n",
      "step = 12000: Average Return = 187.10000610351562\n",
      "step = 12200: loss = 238.68295288085938\n",
      "step = 12400: loss = 796.3482055664062\n",
      "step = 12600: loss = 39.77373504638672\n",
      "step = 12800: loss = 21.331676483154297\n",
      "step = 13000: loss = 25.075672149658203\n",
      "step = 13000: Average Return = 200.0\n",
      "step = 13200: loss = 34.978187561035156\n",
      "step = 13400: loss = 23.596893310546875\n",
      "step = 13600: loss = 599.0440673828125\n",
      "step = 13800: loss = 43.91310501098633\n",
      "step = 14000: loss = 1782.3662109375\n",
      "step = 14000: Average Return = 200.0\n",
      "step = 14200: loss = 53.496665954589844\n",
      "step = 14400: loss = 1896.657958984375\n",
      "step = 14600: loss = 82.78473663330078\n",
      "step = 14800: loss = 305.4472351074219\n",
      "step = 15000: loss = 2803.62109375\n",
      "step = 15000: Average Return = 200.0\n",
      "step = 15200: loss = 756.8356323242188\n",
      "step = 15400: loss = 568.4160766601562\n",
      "step = 15600: loss = 3161.003662109375\n",
      "step = 15800: loss = 4912.7490234375\n",
      "step = 16000: loss = 59.62199020385742\n",
      "step = 16000: Average Return = 200.0\n",
      "step = 16200: loss = 61.728878021240234\n",
      "step = 16400: loss = 742.1744995117188\n",
      "step = 16600: loss = 48.09772491455078\n",
      "step = 16800: loss = 1085.0491943359375\n",
      "step = 17000: loss = 90.4552001953125\n",
      "step = 17000: Average Return = 200.0\n",
      "step = 17200: loss = 1004.1065673828125\n",
      "step = 17400: loss = 1123.6953125\n",
      "step = 17600: loss = 123.3787841796875\n",
      "step = 17800: loss = 49.843048095703125\n",
      "step = 18000: loss = 3538.21484375\n",
      "step = 18000: Average Return = 200.0\n",
      "step = 18200: loss = 110.32475280761719\n",
      "step = 18400: loss = 3539.767578125\n",
      "step = 18600: loss = 83.17483520507812\n",
      "step = 18800: loss = 70.70829010009766\n",
      "step = 19000: loss = 92.60458374023438\n",
      "step = 19000: Average Return = 200.0\n",
      "step = 19200: loss = 1833.579833984375\n",
      "step = 19400: loss = 4391.30322265625\n",
      "step = 19600: loss = 626.9679565429688\n",
      "step = 19800: loss = 121.67256164550781\n",
      "step = 20000: loss = 118.2735366821289\n",
      "step = 20000: Average Return = 200.0\n"
     ]
    }
   ],
   "source": [
    "#@test {\"skip\": true}\n",
    "try:\n",
    "  %%time\n",
    "except:\n",
    "  pass\n",
    "\n",
    "# (Optional) Optimize by wrapping some of the code in a graph using TF function.\n",
    "agent.train = common.function(agent.train)\n",
    "\n",
    "# Reset the train step\n",
    "agent.train_step_counter.assign(0)\n",
    "\n",
    "# Evaluate the agent's policy once before training.\n",
    "avg_return = compute_avg_return(eval_env, agent.policy, NUM_EVAL_EPISODES)\n",
    "returns = [avg_return]\n",
    "\n",
    "for _ in range(NUM_ITERATIONS):\n",
    "  # Collect a few steps using collect_policy and save to the replay buffer\n",
    "  collect_data(train_env, agent.collect_policy, replay_buffer, COLLECT_STEPS_PER_ITERATION)\n",
    "\n",
    "  # Sample a batch of data from the buffer and update the agent's network\n",
    "  experience, unused_info = next(iterator)\n",
    "  train_loss = agent.train(experience).loss\n",
    "\n",
    "  step = agent.train_step_counter.numpy()\n",
    "\n",
    "  if step % LOG_INTERVAL == 0:\n",
    "    print(f'step = {step}: loss = {train_loss}')\n",
    "\n",
    "  if step % EVAL_INTERVAL == 0:\n",
    "    avg_return = compute_avg_return(eval_env, agent.policy, NUM_EVAL_EPISODES)\n",
    "    print(f'step = {step}: Average Return = {avg_return}')\n",
    "    returns.append(avg_return)"
   ]
  },
  {
   "cell_type": "markdown",
   "metadata": {
    "id": "68jNcA_TiJDq"
   },
   "source": [
    "## Visualization\n"
   ]
  },
  {
   "cell_type": "markdown",
   "metadata": {
    "id": "aO-LWCdbbOIC"
   },
   "source": [
    "### Plots\n",
    "\n",
    "Use `matplotlib.pyplot` to chart how the policy improved during training.\n",
    "\n",
    "One iteration of `Cartpole-v0` consists of 200 time steps. The environment gives a reward of `+1` for each step the pole stays up, so the maximum return for one episode is 200. The charts shows the return increasing towards that maximum each time it is evaluated during training. (It may be a little unstable and not increase monotonically each time.)"
   ]
  },
  {
   "cell_type": "code",
   "execution_count": null,
   "metadata": {
    "colab": {
     "base_uri": "https://localhost:8080/",
     "height": 300
    },
    "id": "NxtL1mbOYCVO",
    "outputId": "b5105e5c-b211-40fa-b373-42e09544fbfb"
   },
   "outputs": [
    {
     "data": {
      "text/plain": [
       "(6.275, 250.0)"
      ]
     },
     "execution_count": 130,
     "metadata": {
      "tags": []
     },
     "output_type": "execute_result"
    },
    {
     "data": {
      "image/png": "[encoded data removed]",
      "text/plain": [
       "<Figure size 432x288 with 1 Axes>"
      ]
     },
     "metadata": {
      "needs_background": "light",
      "tags": []
     },
     "output_type": "display_data"
    }
   ],
   "source": [
    "#@test {\"skip\": true}\n",
    "iterations = range(0, NUM_ITERATIONS + 1, EVAL_INTERVAL)\n",
    "plt.plot(iterations, returns)\n",
    "plt.ylabel('Average Return')\n",
    "plt.xlabel('Iterations')\n",
    "plt.ylim(top=250)"
   ]
  },
  {
   "cell_type": "markdown",
   "metadata": {
    "id": "M7-XpPP99Cy7"
   },
   "source": [
    "### Videos"
   ]
  },
  {
   "cell_type": "markdown",
   "metadata": {
    "id": "9pGfGxSH32gn"
   },
   "source": [
    "Charts are nice. But more exciting is seeing an agent actually performing a task in an environment. \n",
    "\n",
    "First, create a function to embed videos in the notebook."
   ]
  },
  {
   "cell_type": "code",
   "execution_count": null,
   "metadata": {
    "id": "ULaGr8pvOKbl"
   },
   "outputs": [],
   "source": [
    "def embed_mp4(filename):\n",
    "  \"\"\"Embeds an mp4 file in the notebook.\"\"\"\n",
    "  video = open(filename,'rb').read()\n",
    "  b64 = base64.b64encode(video)\n",
    "  tag = '''\n",
    "  <video width=\"640\" height=\"480\" controls>\n",
    "    <source src=\"data:video/mp4;base64,{0}\" type=\"video/mp4\">\n",
    "  Your browser does not support the video tag.\n",
    "  </video>'''.format(b64.decode())\n",
    "\n",
    "  return IPython.display.HTML(tag)"
   ]
  },
  {
   "cell_type": "markdown",
   "metadata": {
    "id": "9c_PH-pX4Pr5"
   },
   "source": [
    "Now iterate through a few episodes of the Cartpole game with the agent. The underlying Python environment (the one \"inside\" the TensorFlow environment wrapper) provides a `render()` method, which outputs an image of the environment state. These can be collected into a video."
   ]
  },
  {
   "cell_type": "code",
   "execution_count": null,
   "metadata": {
    "id": "owOVWB158NlF"
   },
   "outputs": [],
   "source": [
    "# def create_policy_eval_video(policy, filename, num_episodes=5, fps=30):\n",
    "def create_policy_eval_video(policy, filename, num_episodes=3, fps=30):\n",
    "  filename = filename + \".mp4\"\n",
    "  with imageio.get_writer(filename, fps=fps) as video:\n",
    "    for _ in range(num_episodes):\n",
    "      time_step = eval_env.reset()\n",
    "      video.append_data(eval_py_env.render())\n",
    "      while not time_step.is_last():\n",
    "        action_step = policy.action(time_step)\n",
    "        time_step = eval_env.step(action_step.action)\n",
    "        video.append_data(eval_py_env.render())\n",
    "  return embed_mp4(filename)"
   ]
  },
  {
   "cell_type": "code",
   "execution_count": null,
   "metadata": {
    "colab": {
     "base_uri": "https://localhost:8080/",
     "height": 539
    },
    "id": "gf7rBUYt8lXT",
    "outputId": "3261037f-0392-41b1-cef0-ffc9591b9aa8"
   },
   "outputs": [
    {
     "name": "stderr",
     "output_type": "stream",
     "text": [
      "WARNING:root:IMAGEIO FFMPEG_WRITER WARNING: input image is not divisible by macro_block_size=16, resizing from (400, 600) to (400, 608) to ensure video compatibility with most codecs and players. To prevent resizing, make your input image divisible by the macro_block_size or set the macro_block_size to None (risking incompatibility). You may also see a FFMPEG warning concerning speedloss due to data not being aligned.\n"
     ]
    },
    {
     "data": {
      "text/html": [
       "\n",
       "  <video width=\"640\" height=\"480\" controls>\n",
       "    <source src=\"data:video/mp4;base64,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\" type=\"video/mp4\">\n",
       "  Your browser does not support the video tag.\n",
       "  </video>"
      ],
      "text/plain": [
       "<IPython.core.display.HTML object>"
      ]
     },
     "execution_count": 133,
     "metadata": {
      "tags": []
     },
     "output_type": "execute_result"
    }
   ],
   "source": [
    "create_policy_eval_video(agent.policy, \"trained-agent\")"
   ]
  },
  {
   "cell_type": "markdown",
   "metadata": {
    "id": "povaAOcZygLw"
   },
   "source": [
    "For fun, compare the trained agent (above) to an agent moving randomly. (It does not do as well.)"
   ]
  },
  {
   "cell_type": "code",
   "execution_count": null,
   "metadata": {
    "colab": {
     "base_uri": "https://localhost:8080/",
     "height": 539
    },
    "id": "pJZIdC37yNH4",
    "outputId": "17770527-1128-45a7-93a0-6fac1b44a2f7"
   },
   "outputs": [
    {
     "name": "stderr",
     "output_type": "stream",
     "text": [
      "WARNING:root:IMAGEIO FFMPEG_WRITER WARNING: input image is not divisible by macro_block_size=16, resizing from (400, 600) to (400, 608) to ensure video compatibility with most codecs and players. To prevent resizing, make your input image divisible by the macro_block_size or set the macro_block_size to None (risking incompatibility). You may also see a FFMPEG warning concerning speedloss due to data not being aligned.\n"
     ]
    },
    {
     "data": {
      "text/html": [
       "\n",
       "  <video width=\"640\" height=\"480\" controls>\n",
       "    <source src=\"data:video/mp4;base64,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\" type=\"video/mp4\">\n",
       "  Your browser does not support the video tag.\n",
       "  </video>"
      ],
      "text/plain": [
       "<IPython.core.display.HTML object>"
      ]
     },
     "execution_count": 134,
     "metadata": {
      "tags": []
     },
     "output_type": "execute_result"
    }
   ],
   "source": [
    "create_policy_eval_video(random_policy, \"random-agent\")"
   ]
  },
  {
   "cell_type": "code",
   "execution_count": null,
   "metadata": {
    "id": "EM6S09fN8_uR"
   },
   "outputs": [],
   "source": []
  }
 ],
 "metadata": {
  "colab": {
   "collapsed_sections": [],
   "name": "TF-Agents-CartPole.ipynb",
   "provenance": []
  },
  "kernelspec": {
   "display_name": "Python 3",
   "language": "python",
   "name": "python3"
  },
  "language_info": {
   "codemirror_mode": {
    "name": "ipython",
    "version": 3
   },
   "file_extension": ".py",
   "mimetype": "text/x-python",
   "name": "python",
   "nbconvert_exporter": "python",
   "pygments_lexer": "ipython3",
   "version": "3.7.1"
  },
  "pycharm": {
   "stem_cell": {
    "cell_type": "raw",
    "metadata": {
     "collapsed": false
    },
    "source": []
   }
  }
 },
 "nbformat": 4,
 "nbformat_minor": 1
}
