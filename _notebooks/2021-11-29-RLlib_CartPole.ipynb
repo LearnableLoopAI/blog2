{
  "nbformat": 4,
  "nbformat_minor": 0,
  "metadata": {
    "colab": {
      "name": "RLlib-CartPole.ipynb",
      "provenance": [],
      "collapsed_sections": []
    },
    "kernelspec": {
      "display_name": "Python 3",
      "language": "python",
      "name": "python3"
    },
    "pycharm": {
      "stem_cell": {
        "cell_type": "raw",
        "metadata": {
          "collapsed": false
        },
        "source": []
      }
    }
  },
  "cells": [
    {
      "cell_type": "markdown",
      "metadata": {
        "id": "klGNgWREsvQv"
      },
      "source": [
        "# \"Control of a Cart-Pole Dynamic System with Ray RLlib\"\n",
        "\n",
        "> Reinforcement Learning (RL) to control the balancing of a pole on a moving cart\n",
        "- toc: true\n",
        "- branch: master\n",
        "- badges: false\n",
        "- comments: true\n",
        "- hide: false\n",
        "- search_exclude: true\n",
        "- metadata_key1: metadata_value1\n",
        "- metadata_key2: metadata_value2\n",
        "- image: images/RLlib-CartPole.png\n",
        "- categories: [Control,   Reinforcement_Learning,   Ray_RLlib]\n",
        "- show_tags: true"
      ]
    },
    {
      "cell_type": "code",
      "metadata": {
        "id": "4E8ujfcND6pJ",
        "colab": {
          "base_uri": "https://localhost:8080/"
        },
        "outputId": "fd982c48-8e09-47e0-a377-3a649113b33c"
      },
      "source": [
        "#hide\n",
        "from google.colab import drive\n",
        "drive.mount('/content/gdrive', force_remount=True)\n",
        "root_dir = \"/content/gdrive/My Drive/\"\n",
        "base_dir = root_dir + 'RLlib/'\n",
        "# base_dir = \"\""
      ],
      "execution_count": 34,
      "outputs": [
        {
          "output_type": "stream",
          "name": "stdout",
          "text": [
            "Mounted at /content/gdrive\n"
          ]
        }
      ]
    },
    {
      "cell_type": "markdown",
      "metadata": {
        "id": "lsaQlK8fFQqH"
      },
      "source": [
        "## 1. Introduction\n",
        "\n",
        "The cart-pole problem can be considered as the \"Hello World\" problem of Reinforcement Learning (RL). It was described by [Barto (1983)](http://www.derongliu.org/adp/adp-cdrom/Barto1983.pdf). The physics of the system is as follows:\n",
        "\n",
        "* All motion happens in a vertical plane\n",
        "* A hinged pole is attached to a cart\n",
        "* The cart slides horizontally on a track in an effort to balance the pole vertically\n",
        "* The system has four state variables:\n",
        "\n",
        "$x$: displacement of the cart\n",
        "\n",
        "$\\theta$: vertical angle on the pole\n",
        "\n",
        "$\\dot{x}$: velocity of the cart\n",
        "\n",
        "$\\dot{\\theta}$: angular velocity of the pole\n"
      ]
    },
    {
      "cell_type": "markdown",
      "metadata": {
        "id": "cKOCZlhUgXVK"
      },
      "source": [
        "Here is a graphical representation of the system:\n",
        "\n",
        "![Cartpole environment](https://raw.githubusercontent.com/tensorflow/agents/master/docs/tutorials/images/cartpole.png)"
      ]
    },
    {
      "cell_type": "markdown",
      "metadata": {
        "id": "S0-ZNxUXoMR6"
      },
      "source": [
        "## 2. Purpose\n",
        "\n",
        "The purpose of our activity in this blog post is to construct and train an entity, let's call it a *controller*, that can manage the horizontal motions of the cart so that the pole remains as close to vertical as possible. The controlled entity is, of course, the *cart and pole* system."
      ]
    },
    {
      "cell_type": "markdown",
      "metadata": {
        "id": "1u9QVVsShC9X"
      },
      "source": [
        "## 3. RLlib Setup\n",
        "\n",
        "We will use the Ray RLlib framework. In addition, this notebook will be run in Google Collab."
      ]
    },
    {
      "cell_type": "code",
      "metadata": {
        "id": "KEHR2Ui-lo8O",
        "colab": {
          "base_uri": "https://localhost:8080/"
        },
        "outputId": "70406dee-8ea2-456b-d036-4f47ddb2508a"
      },
      "source": [
        "!pip install ray[rllib]"
      ],
      "execution_count": 3,
      "outputs": [
        {
          "output_type": "stream",
          "name": "stdout",
          "text": [
            "Collecting ray[rllib]\n",
            "  Downloading ray-1.8.0-cp37-cp37m-manylinux2014_x86_64.whl (54.7 MB)\n",
            "\u001b[K     |████████████████████████████████| 54.7 MB 1.3 MB/s \n",
            "\u001b[?25hCollecting redis>=3.5.0\n",
            "  Downloading redis-4.0.2-py3-none-any.whl (119 kB)\n",
            "\u001b[K     |████████████████████████████████| 119 kB 47.0 MB/s \n",
            "\u001b[?25hRequirement already satisfied: pyyaml in /usr/local/lib/python3.7/dist-packages (from ray[rllib]) (3.13)\n",
            "Requirement already satisfied: numpy>=1.16 in /usr/local/lib/python3.7/dist-packages (from ray[rllib]) (1.19.5)\n",
            "Requirement already satisfied: msgpack<2.0.0,>=1.0.0 in /usr/local/lib/python3.7/dist-packages (from ray[rllib]) (1.0.2)\n",
            "Requirement already satisfied: filelock in /usr/local/lib/python3.7/dist-packages (from ray[rllib]) (3.4.0)\n",
            "Requirement already satisfied: jsonschema in /usr/local/lib/python3.7/dist-packages (from ray[rllib]) (2.6.0)\n",
            "Requirement already satisfied: grpcio>=1.28.1 in /usr/local/lib/python3.7/dist-packages (from ray[rllib]) (1.42.0)\n",
            "Requirement already satisfied: attrs in /usr/local/lib/python3.7/dist-packages (from ray[rllib]) (21.2.0)\n",
            "Requirement already satisfied: protobuf>=3.15.3 in /usr/local/lib/python3.7/dist-packages (from ray[rllib]) (3.17.3)\n",
            "Requirement already satisfied: click>=7.0 in /usr/local/lib/python3.7/dist-packages (from ray[rllib]) (7.1.2)\n",
            "Requirement already satisfied: tabulate in /usr/local/lib/python3.7/dist-packages (from ray[rllib]) (0.8.9)\n",
            "Requirement already satisfied: gym in /usr/local/lib/python3.7/dist-packages (from ray[rllib]) (0.17.3)\n",
            "Collecting tensorboardX>=1.9\n",
            "  Downloading tensorboardX-2.4.1-py2.py3-none-any.whl (124 kB)\n",
            "\u001b[K     |████████████████████████████████| 124 kB 59.0 MB/s \n",
            "\u001b[?25hRequirement already satisfied: scikit-image in /usr/local/lib/python3.7/dist-packages (from ray[rllib]) (0.18.3)\n",
            "Requirement already satisfied: matplotlib!=3.4.3 in /usr/local/lib/python3.7/dist-packages (from ray[rllib]) (3.2.2)\n",
            "Requirement already satisfied: scipy in /usr/local/lib/python3.7/dist-packages (from ray[rllib]) (1.4.1)\n",
            "Requirement already satisfied: pandas in /usr/local/lib/python3.7/dist-packages (from ray[rllib]) (1.1.5)\n",
            "Requirement already satisfied: requests in /usr/local/lib/python3.7/dist-packages (from ray[rllib]) (2.23.0)\n",
            "Requirement already satisfied: dm-tree in /usr/local/lib/python3.7/dist-packages (from ray[rllib]) (0.1.6)\n",
            "Collecting lz4\n",
            "  Downloading lz4-3.1.10-cp37-cp37m-manylinux2010_x86_64.whl (1.8 MB)\n",
            "\u001b[K     |████████████████████████████████| 1.8 MB 39.3 MB/s \n",
            "\u001b[?25hRequirement already satisfied: six>=1.5.2 in /usr/local/lib/python3.7/dist-packages (from grpcio>=1.28.1->ray[rllib]) (1.15.0)\n",
            "Requirement already satisfied: kiwisolver>=1.0.1 in /usr/local/lib/python3.7/dist-packages (from matplotlib!=3.4.3->ray[rllib]) (1.3.2)\n",
            "Requirement already satisfied: python-dateutil>=2.1 in /usr/local/lib/python3.7/dist-packages (from matplotlib!=3.4.3->ray[rllib]) (2.8.2)\n",
            "Requirement already satisfied: cycler>=0.10 in /usr/local/lib/python3.7/dist-packages (from matplotlib!=3.4.3->ray[rllib]) (0.11.0)\n",
            "Requirement already satisfied: pyparsing!=2.0.4,!=2.1.2,!=2.1.6,>=2.0.1 in /usr/local/lib/python3.7/dist-packages (from matplotlib!=3.4.3->ray[rllib]) (3.0.6)\n",
            "Collecting deprecated\n",
            "  Downloading Deprecated-1.2.13-py2.py3-none-any.whl (9.6 kB)\n",
            "Requirement already satisfied: wrapt<2,>=1.10 in /usr/local/lib/python3.7/dist-packages (from deprecated->redis>=3.5.0->ray[rllib]) (1.13.3)\n",
            "Requirement already satisfied: cloudpickle<1.7.0,>=1.2.0 in /usr/local/lib/python3.7/dist-packages (from gym->ray[rllib]) (1.3.0)\n",
            "Requirement already satisfied: pyglet<=1.5.0,>=1.4.0 in /usr/local/lib/python3.7/dist-packages (from gym->ray[rllib]) (1.5.0)\n",
            "Requirement already satisfied: future in /usr/local/lib/python3.7/dist-packages (from pyglet<=1.5.0,>=1.4.0->gym->ray[rllib]) (0.16.0)\n",
            "Requirement already satisfied: pytz>=2017.2 in /usr/local/lib/python3.7/dist-packages (from pandas->ray[rllib]) (2018.9)\n",
            "Requirement already satisfied: idna<3,>=2.5 in /usr/local/lib/python3.7/dist-packages (from requests->ray[rllib]) (2.10)\n",
            "Requirement already satisfied: certifi>=2017.4.17 in /usr/local/lib/python3.7/dist-packages (from requests->ray[rllib]) (2021.10.8)\n",
            "Requirement already satisfied: chardet<4,>=3.0.2 in /usr/local/lib/python3.7/dist-packages (from requests->ray[rllib]) (3.0.4)\n",
            "Requirement already satisfied: urllib3!=1.25.0,!=1.25.1,<1.26,>=1.21.1 in /usr/local/lib/python3.7/dist-packages (from requests->ray[rllib]) (1.24.3)\n",
            "Requirement already satisfied: PyWavelets>=1.1.1 in /usr/local/lib/python3.7/dist-packages (from scikit-image->ray[rllib]) (1.2.0)\n",
            "Requirement already satisfied: networkx>=2.0 in /usr/local/lib/python3.7/dist-packages (from scikit-image->ray[rllib]) (2.6.3)\n",
            "Requirement already satisfied: imageio>=2.3.0 in /usr/local/lib/python3.7/dist-packages (from scikit-image->ray[rllib]) (2.4.1)\n",
            "Requirement already satisfied: pillow!=7.1.0,!=7.1.1,>=4.3.0 in /usr/local/lib/python3.7/dist-packages (from scikit-image->ray[rllib]) (7.1.2)\n",
            "Requirement already satisfied: tifffile>=2019.7.26 in /usr/local/lib/python3.7/dist-packages (from scikit-image->ray[rllib]) (2021.11.2)\n",
            "Installing collected packages: deprecated, redis, tensorboardX, ray, lz4\n",
            "Successfully installed deprecated-1.2.13 lz4-3.1.10 ray-1.8.0 redis-4.0.2 tensorboardX-2.4.1\n"
          ]
        }
      ]
    },
    {
      "cell_type": "code",
      "metadata": {
        "id": "nz7IE2gQbBA5"
      },
      "source": [
        "import ray\n",
        "import ray.rllib.agents.ppo as ppo\n",
        "import pandas as pd\n",
        "import json\n",
        "import os\n",
        "import shutil\n",
        "import sys"
      ],
      "execution_count": 4,
      "outputs": []
    },
    {
      "cell_type": "code",
      "metadata": {
        "colab": {
          "base_uri": "https://localhost:8080/"
        },
        "id": "1K7_uLc_nrCs",
        "outputId": "02b94dfd-c829-464e-bfaa-5efa882606af"
      },
      "source": [
        "!pip list | grep ^ray"
      ],
      "execution_count": 5,
      "outputs": [
        {
          "output_type": "stream",
          "name": "stdout",
          "text": [
            "ray                           1.8.0\n"
          ]
        }
      ]
    },
    {
      "cell_type": "code",
      "metadata": {
        "id": "_4y2uUcYdZH2"
      },
      "source": [
        "# \n",
        "# setup a folder for checkpoints\n",
        "CHECKPOINT_ROOT = base_dir+\"checkpoints/ppo/cart\""
      ],
      "execution_count": 7,
      "outputs": []
    },
    {
      "cell_type": "code",
      "metadata": {
        "id": "tPpp1fsidZDg"
      },
      "source": [
        "# hide\n",
        "# clean output from previous run\n",
        "# checkpoints: (may want to KEEP)\n",
        "# shutil.rmtree(CHECKPOINT_ROOT, ignore_errors=True, onerror=None)\n",
        "\n",
        "# Tensorboard:\n",
        "# ray_results = f'{os.getenv(\"HOME\")}/ray_results/'\n",
        "# shutil.rmtree(ray_results, ignore_errors=True, onerror=None)"
      ],
      "execution_count": 35,
      "outputs": []
    },
    {
      "cell_type": "code",
      "metadata": {
        "colab": {
          "base_uri": "https://localhost:8080/"
        },
        "id": "JTAaiM03dY6v",
        "outputId": "df338314-9180-4b00-c778-d6038ef1f4fe"
      },
      "source": [
        "# start Ray\n",
        "ray.init(ignore_reinit_error=True)"
      ],
      "execution_count": 9,
      "outputs": [
        {
          "output_type": "execute_result",
          "data": {
            "text/plain": [
              "{'metrics_export_port': 46841,\n",
              " 'node_id': '10f33241fd461d5915ad8f5515cbf26dbda974c6dc40ffedda0ee0f7',\n",
              " 'node_ip_address': '172.28.0.2',\n",
              " 'object_store_address': '/tmp/ray/session_2021-11-29_20-32-09_567831_63/sockets/plasma_store',\n",
              " 'raylet_ip_address': '172.28.0.2',\n",
              " 'raylet_socket_name': '/tmp/ray/session_2021-11-29_20-32-09_567831_63/sockets/raylet',\n",
              " 'redis_address': '172.28.0.2:6379',\n",
              " 'session_dir': '/tmp/ray/session_2021-11-29_20-32-09_567831_63',\n",
              " 'webui_url': None}"
            ]
          },
          "metadata": {},
          "execution_count": 9
        }
      ]
    },
    {
      "cell_type": "markdown",
      "metadata": {
        "id": "y1s77CKrv1m_"
      },
      "source": [
        "## 4. Hyperparameters\n",
        "Here we specify all the hyperparameters for the problem:"
      ]
    },
    {
      "cell_type": "code",
      "metadata": {
        "id": "psVAtI4Vv4zL"
      },
      "source": [
        "N_ITERATIONS = 10 #number of training runs\n",
        "config = ppo.DEFAULT_CONFIG.copy()\n",
        "config[\"log_level\"] = \"WARN\"\n",
        "config[\"num_workers\"] = 1 #use > 1 for using more CPU cores, including over a cluster\n",
        "config[\"num_sgd_iter\"] = 10 #number of SGD (stochastic gradient descent) iterations per training minibatch\n",
        "config[\"sgd_minibatch_size\"] = 250\n",
        "config[\"model\"][\"fcnet_hiddens\"] = [100, 50]\n",
        "config[\"num_cpus_per_worker\"] = 0 #avoids running out of resources in the notebook environment when this cell is re-executed"
      ],
      "execution_count": 12,
      "outputs": []
    },
    {
      "cell_type": "markdown",
      "metadata": {
        "id": "VMsJC3DEgI0x"
      },
      "source": [
        "## 5. Environment\n",
        "\n",
        "Let's start with the controlled entity. In Reinforcement Learning, the controlled entity is known as an **environment**. We make use of an environment provided by the OpenAI Gym framework, known as \"CartPole-v1\"."
      ]
    },
    {
      "cell_type": "code",
      "metadata": {
        "id": "pYEz-S9gEv2-"
      },
      "source": [
        "import gym\n",
        "env = gym.make(\"CartPole-v1\")"
      ],
      "execution_count": 14,
      "outputs": []
    },
    {
      "cell_type": "markdown",
      "metadata": {
        "id": "NSmAGfjnRzUE"
      },
      "source": [
        "### Input to Environment\n",
        "\n",
        "Actions to the environment come from an action space with a size of 2."
      ]
    },
    {
      "cell_type": "code",
      "metadata": {
        "colab": {
          "base_uri": "https://localhost:8080/"
        },
        "id": "xBBaR-jTSJ3B",
        "outputId": "4f72e129-500f-4e1e-c1db-c5c4563d4589"
      },
      "source": [
        "env.action_space"
      ],
      "execution_count": 16,
      "outputs": [
        {
          "output_type": "execute_result",
          "data": {
            "text/plain": [
              "Discrete(2)"
            ]
          },
          "metadata": {},
          "execution_count": 16
        }
      ]
    },
    {
      "cell_type": "markdown",
      "metadata": {
        "id": "wsQ8Qb5gSXSP"
      },
      "source": [
        "We will use the convention that the `action` on the cart is as follows:\n",
        "\n",
        "* `0` means LEFT\n",
        "* `1` means RIGHT"
      ]
    },
    {
      "cell_type": "markdown",
      "metadata": {
        "id": "r_fatIpdUMMg"
      },
      "source": [
        "### Evolution of the Environment\n",
        "\n",
        "The arrival of an `action` at the input of the environment leads to the update of its state. This is how the environment evolves. To advance the state of the environment, the `environment.step` method takes an input `action` and applies it to the environment.\n",
        "\n",
        "The next fragment of code drives the environment through 30 steps by applying random actions:\n",
        "\n"
      ]
    },
    {
      "cell_type": "code",
      "metadata": {
        "colab": {
          "base_uri": "https://localhost:8080/"
        },
        "id": "cBGwVeokuWoW",
        "outputId": "f6bb13c6-710d-40c3-fea0-34d10d2407ee"
      },
      "source": [
        "env.reset()\n",
        "for i in range(30):\n",
        "  observation, reward, done, info = env.step(env.action_space.sample())\n",
        "  print(\"step\", i, observation, reward, done, info)\n",
        "env.close()"
      ],
      "execution_count": 17,
      "outputs": [
        {
          "output_type": "stream",
          "name": "stdout",
          "text": [
            "step 0 [-0.02874603 -0.23787058  0.03151653  0.26558663] 1.0 False {}\n",
            "step 1 [-0.03350344 -0.43342785  0.03682827  0.56804119] 1.0 False {}\n",
            "step 2 [-0.042172   -0.2388413   0.04818909  0.28718435] 1.0 False {}\n",
            "step 3 [-0.04694882 -0.04443851  0.05393278  0.01008079] 1.0 False {}\n",
            "step 4 [-0.04783759 -0.24029079  0.05413439  0.3192806 ] 1.0 False {}\n",
            "step 5 [-0.05264341 -0.43614026  0.06052     0.62853219] 1.0 False {}\n",
            "step 6 [-0.06136621 -0.63205228  0.07309065  0.93964424] 1.0 False {}\n",
            "step 7 [-0.07400726 -0.82807934  0.09188353  1.25436928] 1.0 False {}\n",
            "step 8 [-0.09056885 -0.63424628  0.11697092  0.99182193] 1.0 False {}\n",
            "step 9 [-0.10325377 -0.44086732  0.13680736  0.7380467 ] 1.0 False {}\n",
            "step 10 [-0.11207112 -0.63758669  0.15156829  1.07046469] 1.0 False {}\n",
            "step 11 [-0.12482285 -0.44475818  0.17297759  0.8289286 ] 1.0 False {}\n",
            "step 12 [-0.13371802 -0.25236943  0.18955616  0.59525429] 1.0 False {}\n",
            "step 13 [-0.1387654  -0.06033507  0.20146124  0.36775871] 1.0 False {}\n",
            "step 14 [-0.13997211 -0.25766419  0.20881642  0.71659575] 1.0 False {}\n",
            "step 15 [-0.14512539 -0.4549703   0.22314833  1.06707262] 1.0 True {}\n",
            "step 16 [-0.1542248  -0.26338414  0.24448978  0.85188128] 0.0 True {}\n",
            "step 17 [-0.15949248 -0.46085636  0.26152741  1.21044668] 0.0 True {}\n",
            "step 18 [-0.16870961 -0.26988097  0.28573634  1.00973999] 0.0 True {}\n",
            "step 19 [-0.17410722 -0.07946403  0.30593114  0.81856346] 0.0 True {}\n",
            "step 20 [-0.17569651 -0.2771955   0.32230241  1.18993603] 0.0 True {}\n",
            "step 21 [-0.18124042 -0.08733856  0.34610113  1.01293947] 0.0 True {}\n",
            "step 22 [-0.18298719 -0.28503287  0.36635992  1.39163118] 0.0 True {}\n",
            "step 23 [-0.18868784 -0.48242111  0.39419255  1.77338125] 0.0 True {}\n",
            "step 24 [-0.19833627 -0.6793251   0.42966017  2.15899995] 0.0 True {}\n",
            "step 25 [-0.21192277 -0.49014194  0.47284017  2.02348743] 0.0 True {}\n",
            "step 26 [-0.22172561 -0.68628276  0.51330992  2.41930984] 0.0 True {}\n",
            "step 27 [-0.23545126 -0.88129463  0.56169612  2.81850169] 0.0 True {}\n",
            "step 28 [-0.25307715 -0.69243005  0.61806615  2.73532357] 0.0 True {}\n",
            "step 29 [-0.26692576 -0.88535519  0.67277262  3.141536  ] 0.0 True {}\n"
          ]
        },
        {
          "output_type": "stream",
          "name": "stderr",
          "text": [
            "/usr/local/lib/python3.7/dist-packages/gym/logger.py:30: UserWarning: \u001b[33mWARN: You are calling 'step()' even though this environment has already returned done = True. You should always call 'reset()' once you receive 'done = True' -- any further steps are undefined behavior.\u001b[0m\n",
            "  warnings.warn(colorize('%s: %s'%('WARN', msg % args), 'yellow'))\n"
          ]
        }
      ]
    },
    {
      "cell_type": "code",
      "metadata": {
        "colab": {
          "base_uri": "https://localhost:8080/"
        },
        "id": "2TpHYDa2uWjW",
        "outputId": "604014b5-ade7-43a1-c4d8-08eb6c92ea8e"
      },
      "source": [
        "# \n",
        "# install dependencies needed for recording videos\n",
        "!apt-get install -y xvfb x11-utils\n",
        "!pip install pyvirtualdisplay==0.2.*"
      ],
      "execution_count": 18,
      "outputs": [
        {
          "output_type": "stream",
          "name": "stdout",
          "text": [
            "Reading package lists... Done\n",
            "Building dependency tree       \n",
            "Reading state information... Done\n",
            "The following additional packages will be installed:\n",
            "  libxxf86dga1\n",
            "Suggested packages:\n",
            "  mesa-utils\n",
            "The following NEW packages will be installed:\n",
            "  libxxf86dga1 x11-utils xvfb\n",
            "0 upgraded, 3 newly installed, 0 to remove and 37 not upgraded.\n",
            "Need to get 994 kB of archives.\n",
            "After this operation, 2,981 kB of additional disk space will be used.\n",
            "Get:1 http://archive.ubuntu.com/ubuntu bionic/main amd64 libxxf86dga1 amd64 2:1.1.4-1 [13.7 kB]\n",
            "Get:2 http://archive.ubuntu.com/ubuntu bionic/main amd64 x11-utils amd64 7.7+3build1 [196 kB]\n",
            "Get:3 http://archive.ubuntu.com/ubuntu bionic-updates/universe amd64 xvfb amd64 2:1.19.6-1ubuntu4.9 [784 kB]\n",
            "Fetched 994 kB in 1s (1,279 kB/s)\n",
            "Selecting previously unselected package libxxf86dga1:amd64.\n",
            "(Reading database ... 155222 files and directories currently installed.)\n",
            "Preparing to unpack .../libxxf86dga1_2%3a1.1.4-1_amd64.deb ...\n",
            "Unpacking libxxf86dga1:amd64 (2:1.1.4-1) ...\n",
            "Selecting previously unselected package x11-utils.\n",
            "Preparing to unpack .../x11-utils_7.7+3build1_amd64.deb ...\n",
            "Unpacking x11-utils (7.7+3build1) ...\n",
            "Selecting previously unselected package xvfb.\n",
            "Preparing to unpack .../xvfb_2%3a1.19.6-1ubuntu4.9_amd64.deb ...\n",
            "Unpacking xvfb (2:1.19.6-1ubuntu4.9) ...\n",
            "Setting up xvfb (2:1.19.6-1ubuntu4.9) ...\n",
            "Setting up libxxf86dga1:amd64 (2:1.1.4-1) ...\n",
            "Setting up x11-utils (7.7+3build1) ...\n",
            "Processing triggers for man-db (2.8.3-2ubuntu0.1) ...\n",
            "Processing triggers for libc-bin (2.27-3ubuntu1.3) ...\n",
            "/sbin/ldconfig.real: /usr/local/lib/python3.7/dist-packages/ideep4py/lib/libmkldnn.so.0 is not a symbolic link\n",
            "\n",
            "Collecting pyvirtualdisplay==0.2.*\n",
            "  Downloading PyVirtualDisplay-0.2.5-py2.py3-none-any.whl (13 kB)\n",
            "Collecting EasyProcess\n",
            "  Downloading EasyProcess-0.3-py2.py3-none-any.whl (7.9 kB)\n",
            "Installing collected packages: EasyProcess, pyvirtualdisplay\n",
            "Successfully installed EasyProcess-0.3 pyvirtualdisplay-0.2.5\n"
          ]
        }
      ]
    },
    {
      "cell_type": "code",
      "metadata": {
        "id": "A9ETYHlCvMjs"
      },
      "source": [
        "from pyvirtualdisplay import Display\n",
        "display = Display(visible=False, size=(1400, 900))\n",
        "_ = display.start()"
      ],
      "execution_count": 19,
      "outputs": []
    },
    {
      "cell_type": "code",
      "metadata": {
        "colab": {
          "base_uri": "https://localhost:8080/"
        },
        "id": "oJNYgOQEvMeR",
        "outputId": "d5e8ef4b-a69b-4d2d-b5c7-b4316a7b798e"
      },
      "source": [
        "from gym.wrappers.monitoring.video_recorder import VideoRecorder\n",
        "before_training = \"before_training.mp4\"\n",
        "video = VideoRecorder(env, before_training)\n",
        "# returns an initial observation\n",
        "env.reset()\n",
        "for i in range(200):\n",
        "  env.render()\n",
        "  video.capture_frame()\n",
        "  observation, reward, done, info = env.step(env.action_space.sample())\n",
        "video.close()\n",
        "env.close()"
      ],
      "execution_count": 20,
      "outputs": [
        {
          "output_type": "stream",
          "name": "stderr",
          "text": [
            "/usr/local/lib/python3.7/dist-packages/gym/logger.py:30: UserWarning: \u001b[33mWARN: You are calling 'step()' even though this environment has already returned done = True. You should always call 'reset()' once you receive 'done = True' -- any further steps are undefined behavior.\u001b[0m\n",
            "  warnings.warn(colorize('%s: %s'%('WARN', msg % args), 'yellow'))\n"
          ]
        }
      ]
    },
    {
      "cell_type": "code",
      "metadata": {
        "id": "lJXqoUXRvMWG"
      },
      "source": [
        "from base64 import b64encode\n",
        "def render_mp4(videopath: str) -> str:\n",
        "  \"\"\"\n",
        "  Gets a string containing a b4-encoded version of the MP4 video\n",
        "  at the specified path.\n",
        "  \"\"\"\n",
        "  mp4 = open(videopath, 'rb').read()\n",
        "  base64_encoded_mp4 = b64encode(mp4).decode()\n",
        "  return f'<video width=400 controls><source src=\"data:video/mp4;' \\\n",
        "         f'base64,{base64_encoded_mp4}\" type=\"video/mp4\"></video>'"
      ],
      "execution_count": 21,
      "outputs": []
    },
    {
      "cell_type": "code",
      "metadata": {
        "colab": {
          "base_uri": "https://localhost:8080/",
          "height": 288
        },
        "id": "D3q_AKujvMLa",
        "outputId": "4310f804-69f9-4fa5-b3b7-4595329677c1"
      },
      "source": [
        "from IPython.display import HTML\n",
        "html = render_mp4(before_training)\n",
        "HTML(html)"
      ],
      "execution_count": 22,
      "outputs": [
        {
          "output_type": "execute_result",
          "data": {
            "text/html": [
              "<video width=400 controls><source src=\"data:video/mp4;base64,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\" type=\"video/mp4\"></video>"
            ],
            "text/plain": [
              "<IPython.core.display.HTML object>"
            ]
          },
          "metadata": {},
          "execution_count": 22
        }
      ]
    },
    {
      "cell_type": "markdown",
      "metadata": {
        "id": "4MoIFnVtVJuA"
      },
      "source": [
        "### Output from Environment\n",
        "\n",
        "The output from the environment returns a tuple containing:\n",
        "\n",
        "* the next observation of the environment\n",
        "* the reward\n",
        "* a flag indicating whether the episode is done\n",
        "* some other information"
      ]
    },
    {
      "cell_type": "markdown",
      "metadata": {
        "id": "E9lW_OZYFR8A"
      },
      "source": [
        "## 6. Agent\n",
        "\n",
        "The controller in our problem is the algorithm used to solve the problem. In RL parlance the controller is known as an `Agent`. RLlib provides implementations of a variety of `Agents`.\n",
        "\n",
        "For our problem we will use the PPO agent. \n",
        "\n",
        "The fundamental problem for an Agent is how to find the next best action to submit to the environment."
      ]
    },
    {
      "cell_type": "markdown",
      "metadata": {
        "id": "C58G9mygALn9"
      },
      "source": [
        "## 7. Train the agent"
      ]
    },
    {
      "cell_type": "code",
      "metadata": {
        "id": "jPKVnmvHAKV4"
      },
      "source": [
        "ENV = \"CartPole-v1\" #OpenAI Gym environment for Cart Pole"
      ],
      "execution_count": 23,
      "outputs": []
    },
    {
      "cell_type": "code",
      "metadata": {
        "colab": {
          "base_uri": "https://localhost:8080/"
        },
        "id": "MxjioUCe0Tdt",
        "outputId": "748227e6-853d-4647-8d7a-ed41b850d8b3"
      },
      "source": [
        "agent = ppo.PPOTrainer(config, env=ENV)\n",
        "results = []\n",
        "episode_data = []\n",
        "episode_json = []\n",
        "for n in range(N_ITER):\n",
        "    result = agent.train()\n",
        "    results.append(result)\n",
        "    episode = {'n': n, \n",
        "               'episode_reward_min': result['episode_reward_min'], \n",
        "               'episode_reward_mean': result['episode_reward_mean'], \n",
        "               'episode_reward_max': result['episode_reward_max'],  \n",
        "               'episode_len_mean': result['episode_len_mean']}\n",
        "    episode_data.append(episode)\n",
        "    episode_json.append(json.dumps(episode))\n",
        "    file_name = agent.save(CHECKPOINT_ROOT)\n",
        "    print(f'{n:3d}: Min/Mean/Max reward: {result[\"episode_reward_min\"]:8.4f}/{result[\"episode_reward_mean\"]:8.4f}/{result[\"episode_reward_max\"]:8.4f}. Checkpoint saved to {file_name}')"
      ],
      "execution_count": 24,
      "outputs": [
        {
          "output_type": "stream",
          "name": "stderr",
          "text": [
            "2021-11-29 20:36:22,542\tINFO trainer.py:753 -- Tip: set framework=tfe or the --eager flag to enable TensorFlow eager execution\n",
            "2021-11-29 20:36:22,544\tINFO ppo.py:167 -- In multi-agent mode, policies will be optimized sequentially by the multi-GPU optimizer. Consider setting simple_optimizer=True if this doesn't work for you.\n",
            "2021-11-29 20:36:22,552\tINFO trainer.py:772 -- Current log_level is WARN. For more information, set 'log_level': 'INFO' / 'DEBUG' or use the -v and -vv flags.\n"
          ]
        },
        {
          "output_type": "stream",
          "name": "stdout",
          "text": [
            "\u001b[2m\u001b[36m(RolloutWorker pid=600)\u001b[0m \n"
          ]
        },
        {
          "output_type": "stream",
          "name": "stderr",
          "text": [
            "\u001b[2m\u001b[36m(pid=600)\u001b[0m 2021-11-29 20:36:31,288\tWARNING deprecation.py:39 -- DeprecationWarning: `SampleBatch['is_training']` has been deprecated. Use `SampleBatch.is_training` instead. This will raise an error in the future!\n",
            "2021-11-29 20:36:33,225\tWARNING deprecation.py:39 -- DeprecationWarning: `SampleBatch['is_training']` has been deprecated. Use `SampleBatch.is_training` instead. This will raise an error in the future!\n",
            "2021-11-29 20:36:34,346\tWARNING trainer_template.py:186 -- `execution_plan` functions should accept `trainer`, `workers`, and `config` as args!\n",
            "2021-11-29 20:36:34,358\tINFO trainable.py:113 -- Trainable.setup took 11.818 seconds. If your trainable is slow to initialize, consider setting reuse_actors=True to reduce actor creation overheads.\n",
            "2021-11-29 20:36:34,375\tWARNING util.py:57 -- Install gputil for GPU system monitoring.\n",
            "2021-11-29 20:36:40,460\tWARNING deprecation.py:39 -- DeprecationWarning: `slice` has been deprecated. Use `SampleBatch[start:stop]` instead. This will raise an error in the future!\n"
          ]
        },
        {
          "output_type": "stream",
          "name": "stdout",
          "text": [
            "  0: Min/Mean/Max reward:   8.0000/ 22.1944/ 79.0000. Checkpoint saved to /content/gdrive/My Drive/RLlib/checkpoints/ppo/cart/checkpoint_000001/checkpoint-1\n",
            "  1: Min/Mean/Max reward:  11.0000/ 32.6148/133.0000. Checkpoint saved to /content/gdrive/My Drive/RLlib/checkpoints/ppo/cart/checkpoint_000002/checkpoint-2\n",
            "  2: Min/Mean/Max reward:  10.0000/ 39.1569/121.0000. Checkpoint saved to /content/gdrive/My Drive/RLlib/checkpoints/ppo/cart/checkpoint_000003/checkpoint-3\n",
            "  3: Min/Mean/Max reward:  10.0000/ 49.0000/108.0000. Checkpoint saved to /content/gdrive/My Drive/RLlib/checkpoints/ppo/cart/checkpoint_000004/checkpoint-4\n",
            "  4: Min/Mean/Max reward:  10.0000/ 61.9400/163.0000. Checkpoint saved to /content/gdrive/My Drive/RLlib/checkpoints/ppo/cart/checkpoint_000005/checkpoint-5\n",
            "  5: Min/Mean/Max reward:  19.0000/ 80.1900/189.0000. Checkpoint saved to /content/gdrive/My Drive/RLlib/checkpoints/ppo/cart/checkpoint_000006/checkpoint-6\n",
            "  6: Min/Mean/Max reward:  19.0000/100.7100/268.0000. Checkpoint saved to /content/gdrive/My Drive/RLlib/checkpoints/ppo/cart/checkpoint_000007/checkpoint-7\n",
            "  7: Min/Mean/Max reward:  19.0000/126.0100/474.0000. Checkpoint saved to /content/gdrive/My Drive/RLlib/checkpoints/ppo/cart/checkpoint_000008/checkpoint-8\n",
            "  8: Min/Mean/Max reward:  19.0000/149.7300/474.0000. Checkpoint saved to /content/gdrive/My Drive/RLlib/checkpoints/ppo/cart/checkpoint_000009/checkpoint-9\n",
            "  9: Min/Mean/Max reward:  29.0000/170.4200/474.0000. Checkpoint saved to /content/gdrive/My Drive/RLlib/checkpoints/ppo/cart/checkpoint_000010/checkpoint-10\n"
          ]
        }
      ]
    },
    {
      "cell_type": "code",
      "metadata": {
        "colab": {
          "base_uri": "https://localhost:8080/",
          "height": 357
        },
        "id": "ldRMixTj0TEh",
        "outputId": "045977dd-20a0-4967-b468-4130a949c34c"
      },
      "source": [
        "df = pd.DataFrame(data=episode_data)\n",
        "df"
      ],
      "execution_count": 25,
      "outputs": [
        {
          "output_type": "execute_result",
          "data": {
            "text/html": [
              "<div>\n",
              "<style scoped>\n",
              "    .dataframe tbody tr th:only-of-type {\n",
              "        vertical-align: middle;\n",
              "    }\n",
              "\n",
              "    .dataframe tbody tr th {\n",
              "        vertical-align: top;\n",
              "    }\n",
              "\n",
              "    .dataframe thead th {\n",
              "        text-align: right;\n",
              "    }\n",
              "</style>\n",
              "<table border=\"1\" class=\"dataframe\">\n",
              "  <thead>\n",
              "    <tr style=\"text-align: right;\">\n",
              "      <th></th>\n",
              "      <th>n</th>\n",
              "      <th>episode_reward_min</th>\n",
              "      <th>episode_reward_mean</th>\n",
              "      <th>episode_reward_max</th>\n",
              "      <th>episode_len_mean</th>\n",
              "    </tr>\n",
              "  </thead>\n",
              "  <tbody>\n",
              "    <tr>\n",
              "      <th>0</th>\n",
              "      <td>0</td>\n",
              "      <td>8.0</td>\n",
              "      <td>22.194444</td>\n",
              "      <td>79.0</td>\n",
              "      <td>22.194444</td>\n",
              "    </tr>\n",
              "    <tr>\n",
              "      <th>1</th>\n",
              "      <td>1</td>\n",
              "      <td>11.0</td>\n",
              "      <td>32.614754</td>\n",
              "      <td>133.0</td>\n",
              "      <td>32.614754</td>\n",
              "    </tr>\n",
              "    <tr>\n",
              "      <th>2</th>\n",
              "      <td>2</td>\n",
              "      <td>10.0</td>\n",
              "      <td>39.156863</td>\n",
              "      <td>121.0</td>\n",
              "      <td>39.156863</td>\n",
              "    </tr>\n",
              "    <tr>\n",
              "      <th>3</th>\n",
              "      <td>3</td>\n",
              "      <td>10.0</td>\n",
              "      <td>49.000000</td>\n",
              "      <td>108.0</td>\n",
              "      <td>49.000000</td>\n",
              "    </tr>\n",
              "    <tr>\n",
              "      <th>4</th>\n",
              "      <td>4</td>\n",
              "      <td>10.0</td>\n",
              "      <td>61.940000</td>\n",
              "      <td>163.0</td>\n",
              "      <td>61.940000</td>\n",
              "    </tr>\n",
              "    <tr>\n",
              "      <th>5</th>\n",
              "      <td>5</td>\n",
              "      <td>19.0</td>\n",
              "      <td>80.190000</td>\n",
              "      <td>189.0</td>\n",
              "      <td>80.190000</td>\n",
              "    </tr>\n",
              "    <tr>\n",
              "      <th>6</th>\n",
              "      <td>6</td>\n",
              "      <td>19.0</td>\n",
              "      <td>100.710000</td>\n",
              "      <td>268.0</td>\n",
              "      <td>100.710000</td>\n",
              "    </tr>\n",
              "    <tr>\n",
              "      <th>7</th>\n",
              "      <td>7</td>\n",
              "      <td>19.0</td>\n",
              "      <td>126.010000</td>\n",
              "      <td>474.0</td>\n",
              "      <td>126.010000</td>\n",
              "    </tr>\n",
              "    <tr>\n",
              "      <th>8</th>\n",
              "      <td>8</td>\n",
              "      <td>19.0</td>\n",
              "      <td>149.730000</td>\n",
              "      <td>474.0</td>\n",
              "      <td>149.730000</td>\n",
              "    </tr>\n",
              "    <tr>\n",
              "      <th>9</th>\n",
              "      <td>9</td>\n",
              "      <td>29.0</td>\n",
              "      <td>170.420000</td>\n",
              "      <td>474.0</td>\n",
              "      <td>170.420000</td>\n",
              "    </tr>\n",
              "  </tbody>\n",
              "</table>\n",
              "</div>"
            ],
            "text/plain": [
              "   n  episode_reward_min  ...  episode_reward_max  episode_len_mean\n",
              "0  0                 8.0  ...                79.0         22.194444\n",
              "1  1                11.0  ...               133.0         32.614754\n",
              "2  2                10.0  ...               121.0         39.156863\n",
              "3  3                10.0  ...               108.0         49.000000\n",
              "4  4                10.0  ...               163.0         61.940000\n",
              "5  5                19.0  ...               189.0         80.190000\n",
              "6  6                19.0  ...               268.0        100.710000\n",
              "7  7                19.0  ...               474.0        126.010000\n",
              "8  8                19.0  ...               474.0        149.730000\n",
              "9  9                29.0  ...               474.0        170.420000\n",
              "\n",
              "[10 rows x 5 columns]"
            ]
          },
          "metadata": {},
          "execution_count": 25
        }
      ]
    },
    {
      "cell_type": "code",
      "metadata": {
        "colab": {
          "base_uri": "https://localhost:8080/",
          "height": 279
        },
        "id": "_Ot6Y5O31FEK",
        "outputId": "5065f4b7-5a72-4761-9e4b-8a29f995ed71"
      },
      "source": [
        "df.plot(x=\"n\", y=[\"episode_reward_mean\", \"episode_reward_min\", \"episode_reward_max\"], secondary_y=True);"
      ],
      "execution_count": 26,
      "outputs": [
        {
          "output_type": "display_data",
          "data": {
            "image/png": "[encoded data removed]",
            "text/plain": [
              "<Figure size 432x288 with 2 Axes>"
            ]
          },
          "metadata": {
            "needs_background": "light"
          }
        }
      ]
    },
    {
      "cell_type": "code",
      "metadata": {
        "colab": {
          "base_uri": "https://localhost:8080/"
        },
        "id": "vtP_pjfV1E_c",
        "outputId": "49e6f568-e4fe-4ceb-eac6-d399d594240b"
      },
      "source": [
        "import pprint\n",
        "policy = agent.get_policy()\n",
        "model = policy.model\n",
        "pprint.pprint(model.variables())\n",
        "pprint.pprint(model.value_function())\n",
        "print(model.base_model.summary())"
      ],
      "execution_count": 27,
      "outputs": [
        {
          "output_type": "stream",
          "name": "stdout",
          "text": [
            "[<tf.Variable 'default_policy/fc_1/kernel:0' shape=(4, 100) dtype=float32>,\n",
            " <tf.Variable 'default_policy/fc_1/bias:0' shape=(100,) dtype=float32>,\n",
            " <tf.Variable 'default_policy/fc_value_1/kernel:0' shape=(4, 100) dtype=float32>,\n",
            " <tf.Variable 'default_policy/fc_value_1/bias:0' shape=(100,) dtype=float32>,\n",
            " <tf.Variable 'default_policy/fc_2/kernel:0' shape=(100, 50) dtype=float32>,\n",
            " <tf.Variable 'default_policy/fc_2/bias:0' shape=(50,) dtype=float32>,\n",
            " <tf.Variable 'default_policy/fc_value_2/kernel:0' shape=(100, 50) dtype=float32>,\n",
            " <tf.Variable 'default_policy/fc_value_2/bias:0' shape=(50,) dtype=float32>,\n",
            " <tf.Variable 'default_policy/fc_out/kernel:0' shape=(50, 2) dtype=float32>,\n",
            " <tf.Variable 'default_policy/fc_out/bias:0' shape=(2,) dtype=float32>,\n",
            " <tf.Variable 'default_policy/value_out/kernel:0' shape=(50, 1) dtype=float32>,\n",
            " <tf.Variable 'default_policy/value_out/bias:0' shape=(1,) dtype=float32>]\n",
            "<tf.Tensor 'Reshape:0' shape=(?,) dtype=float32>\n",
            "Model: \"model\"\n",
            "__________________________________________________________________________________________________\n",
            " Layer (type)                   Output Shape         Param #     Connected to                     \n",
            "==================================================================================================\n",
            " observations (InputLayer)      [(None, 4)]          0           []                               \n",
            "                                                                                                  \n",
            " fc_1 (Dense)                   (None, 100)          500         ['observations[0][0]']           \n",
            "                                                                                                  \n",
            " fc_value_1 (Dense)             (None, 100)          500         ['observations[0][0]']           \n",
            "                                                                                                  \n",
            " fc_2 (Dense)                   (None, 50)           5050        ['fc_1[0][0]']                   \n",
            "                                                                                                  \n",
            " fc_value_2 (Dense)             (None, 50)           5050        ['fc_value_1[0][0]']             \n",
            "                                                                                                  \n",
            " fc_out (Dense)                 (None, 2)            102         ['fc_2[0][0]']                   \n",
            "                                                                                                  \n",
            " value_out (Dense)              (None, 1)            51          ['fc_value_2[0][0]']             \n",
            "                                                                                                  \n",
            "==================================================================================================\n",
            "Total params: 11,253\n",
            "Trainable params: 11,253\n",
            "Non-trainable params: 0\n",
            "__________________________________________________________________________________________________\n",
            "None\n"
          ]
        }
      ]
    },
    {
      "cell_type": "code",
      "metadata": {
        "id": "0xgrKTeT1Ewu"
      },
      "source": [
        "# hide\n",
        "# # tuned training \n",
        "# %%time\n",
        "# stop = {\"episode_reward_mean\": 195}\n",
        "# analysis = ray.tune.run(\n",
        "#   \"PPO\",\n",
        "#   config=config,\n",
        "#   stop=stop,\n",
        "#   checkpoint_at_end=True,\n",
        "# )"
      ],
      "execution_count": 28,
      "outputs": []
    },
    {
      "cell_type": "markdown",
      "metadata": {
        "id": "68jNcA_TiJDq"
      },
      "source": [
        "### Visualization after training\n"
      ]
    },
    {
      "cell_type": "code",
      "metadata": {
        "colab": {
          "base_uri": "https://localhost:8080/",
          "height": 325
        },
        "id": "Fj-jv3IqA4RZ",
        "outputId": "d75cdcb4-4790-46d6-ffe3-d976b640bbd4"
      },
      "source": [
        "after_training = \"after_training.mp4\"\n",
        "after_video = VideoRecorder(env, after_training)\n",
        "observation = env.reset()\n",
        "done = False\n",
        "while not done:\n",
        "  env.render()\n",
        "  after_video.capture_frame()\n",
        "  action = agent.compute_action(observation)\n",
        "  observation, reward, done, info = env.step(action)\n",
        "after_video.close()\n",
        "env.close()\n",
        "# You should get a video similar to the one below. \n",
        "html = render_mp4(after_training)\n",
        "HTML(html)"
      ],
      "execution_count": 33,
      "outputs": [
        {
          "output_type": "stream",
          "name": "stderr",
          "text": [
            "2021-11-29 20:42:56,187\tWARNING deprecation.py:39 -- DeprecationWarning: `compute_action` has been deprecated. Use `compute_single_action` instead. This will raise an error in the future!\n"
          ]
        },
        {
          "output_type": "execute_result",
          "data": {
            "text/html": [
              "<video width=400 controls><source src=\"data:video/mp4;base64,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\" type=\"video/mp4\"></video>"
            ],
            "text/plain": [
              "<IPython.core.display.HTML object>"
            ]
          },
          "metadata": {},
          "execution_count": 33
        }
      ]
    },
    {
      "cell_type": "code",
      "metadata": {
        "id": "Biyz2Wo8A4PV"
      },
      "source": [
        ""
      ],
      "execution_count": null,
      "outputs": []
    },
    {
      "cell_type": "code",
      "metadata": {
        "id": "aMVZXsfkA4Lx"
      },
      "source": [
        ""
      ],
      "execution_count": null,
      "outputs": []
    },
    {
      "cell_type": "code",
      "metadata": {
        "id": "i4GDOBrHA4IV"
      },
      "source": [
        ""
      ],
      "execution_count": null,
      "outputs": []
    },
    {
      "cell_type": "code",
      "metadata": {
        "id": "YFOnCObIA4FB"
      },
      "source": [
        ""
      ],
      "execution_count": null,
      "outputs": []
    },
    {
      "cell_type": "code",
      "metadata": {
        "id": "64IHqzVHA37h"
      },
      "source": [
        ""
      ],
      "execution_count": null,
      "outputs": []
    }
  ]
}